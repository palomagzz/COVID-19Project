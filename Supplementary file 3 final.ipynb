{
 "cells": [
  {
   "cell_type": "markdown",
   "id": "d3674d99",
   "metadata": {},
   "source": [
    "# DATA 601 PROJECT\n",
    "## pop health 3\n",
    "\n",
    "                                                                                           File created by :Nisha Budhathoki                                                                                    "
   ]
  },
  {
   "cell_type": "markdown",
   "id": "388d78bc",
   "metadata": {},
   "source": [
    "## Panel data "
   ]
  },
  {
   "cell_type": "markdown",
   "id": "781ff69e",
   "metadata": {},
   "source": [
    "Panel data, sometimes referred to as longitudinal data, is data that contains observations about different cross sections across time."
   ]
  },
  {
   "cell_type": "code",
   "execution_count": 1,
   "id": "f541e8a7",
   "metadata": {},
   "outputs": [
    {
     "name": "stderr",
     "output_type": "stream",
     "text": [
      "── \u001b[1mAttaching core tidyverse packages\u001b[22m ──────────────────────────────────────────────────────────────── tidyverse 2.0.0 ──\n",
      "\u001b[32m✔\u001b[39m \u001b[34mdplyr    \u001b[39m 1.1.2     \u001b[32m✔\u001b[39m \u001b[34mreadr    \u001b[39m 2.1.4\n",
      "\u001b[32m✔\u001b[39m \u001b[34mforcats  \u001b[39m 1.0.0     \u001b[32m✔\u001b[39m \u001b[34mstringr  \u001b[39m 1.5.0\n",
      "\u001b[32m✔\u001b[39m \u001b[34mggplot2  \u001b[39m 3.4.2     \u001b[32m✔\u001b[39m \u001b[34mtibble   \u001b[39m 3.2.1\n",
      "\u001b[32m✔\u001b[39m \u001b[34mlubridate\u001b[39m 1.9.2     \u001b[32m✔\u001b[39m \u001b[34mtidyr    \u001b[39m 1.3.0\n",
      "\u001b[32m✔\u001b[39m \u001b[34mpurrr    \u001b[39m 1.0.1     \n",
      "── \u001b[1mConflicts\u001b[22m ────────────────────────────────────────────────────────────────────────────────── tidyverse_conflicts() ──\n",
      "\u001b[31m✖\u001b[39m \u001b[34mdplyr\u001b[39m::\u001b[32mfilter()\u001b[39m masks \u001b[34mstats\u001b[39m::filter()\n",
      "\u001b[31m✖\u001b[39m \u001b[34mdplyr\u001b[39m::\u001b[32mlag()\u001b[39m    masks \u001b[34mstats\u001b[39m::lag()\n",
      "\u001b[36mℹ\u001b[39m Use the conflicted package (\u001b[3m\u001b[34m<http://conflicted.r-lib.org/>\u001b[39m\u001b[23m) to force all conflicts to become errors\n"
     ]
    }
   ],
   "source": [
    "library(tidyverse)"
   ]
  },
  {
   "cell_type": "code",
   "execution_count": 2,
   "id": "24f69bc3",
   "metadata": {},
   "outputs": [
    {
     "data": {
      "text/html": [
       "<table class=\"dataframe\">\n",
       "<caption>A data.frame: 6 × 18</caption>\n",
       "<thead>\n",
       "\t<tr><th></th><th scope=col>country</th><th scope=col>countrycode</th><th scope=col>year</th><th scope=col>total_deaths</th><th scope=col>covid_deaths</th><th scope=col>expected_deaths</th><th scope=col>excess_deaths</th><th scope=col>population</th><th scope=col>land_area</th><th scope=col>Ratio.of.Excess.death.to.COVID.19.deaths</th><th scope=col>non_covid_deaths</th><th scope=col>covid_deaths_per_100k</th><th scope=col>excess_deaths_per_100k</th><th scope=col>GDP_per_capita</th><th scope=col>Age_65_over_percentage</th><th scope=col>urban_pop_percentage</th><th scope=col>Pop_density</th><th scope=col>Access_to_quality_healthcare</th></tr>\n",
       "\t<tr><th></th><th scope=col>&lt;chr&gt;</th><th scope=col>&lt;chr&gt;</th><th scope=col>&lt;int&gt;</th><th scope=col>&lt;dbl&gt;</th><th scope=col>&lt;int&gt;</th><th scope=col>&lt;dbl&gt;</th><th scope=col>&lt;dbl&gt;</th><th scope=col>&lt;int&gt;</th><th scope=col>&lt;chr&gt;</th><th scope=col>&lt;dbl&gt;</th><th scope=col>&lt;dbl&gt;</th><th scope=col>&lt;dbl&gt;</th><th scope=col>&lt;dbl&gt;</th><th scope=col>&lt;dbl&gt;</th><th scope=col>&lt;dbl&gt;</th><th scope=col>&lt;int&gt;</th><th scope=col>&lt;int&gt;</th><th scope=col>&lt;dbl&gt;</th></tr>\n",
       "</thead>\n",
       "<tbody>\n",
       "\t<tr><th scope=row>1</th><td>Australia</td><td>AUS</td><td>2020</td><td>164778</td><td>  910</td><td>168241.20</td><td>-3463.205</td><td>25655289</td><td>7682300</td><td>-3.8</td><td>163868</td><td>  3.547027</td><td>-13.49899</td><td>51868.25</td><td>16.2</td><td>86</td><td>  3</td><td>72.6</td></tr>\n",
       "\t<tr><th scope=row>2</th><td>Australia</td><td>AUS</td><td>2021</td><td>171718</td><td> 1359</td><td>166854.12</td><td> 4863.877</td><td>25688079</td><td>7682300</td><td> 3.6</td><td>170359</td><td>  5.290392</td><td> 18.93437</td><td>60697.25</td><td>16.6</td><td>86</td><td>  3</td><td>72.5</td></tr>\n",
       "\t<tr><th scope=row>3</th><td>Australia</td><td>AUS</td><td>2022</td><td>190326</td><td>14438</td><td>168414.04</td><td>21911.965</td><td>25978935</td><td>7682300</td><td> 1.5</td><td>175888</td><td> 55.575796</td><td> 84.34512</td><td>65099.85</td><td>16.6</td><td>86</td><td>  3</td><td>72.5</td></tr>\n",
       "\t<tr><th scope=row>4</th><td>Austria  </td><td>AUT</td><td>2020</td><td> 91196</td><td> 7706</td><td> 83134.64</td><td> 8061.356</td><td> 8916845</td><td>82409  </td><td> 1.0</td><td> 83490</td><td> 86.420701</td><td> 90.40592</td><td>48789.50</td><td>19.1</td><td>59</td><td>108</td><td>66.6</td></tr>\n",
       "\t<tr><th scope=row>5</th><td>Austria  </td><td>AUT</td><td>2021</td><td> 89538</td><td> 9153</td><td> 81589.91</td><td> 7948.094</td><td> 8951520</td><td>82409  </td><td> 0.9</td><td> 80385</td><td>102.250791</td><td> 88.79044</td><td>53517.89</td><td>19.4</td><td>59</td><td>109</td><td>66.8</td></tr>\n",
       "\t<tr><th scope=row>6</th><td>Austria  </td><td>AUT</td><td>2022</td><td> 91582</td><td> 4689</td><td> 81758.12</td><td> 9823.883</td><td> 9052856</td><td>82409  </td><td> 2.1</td><td> 86893</td><td> 51.795809</td><td>108.51695</td><td>52084.68</td><td>19.4</td><td>59</td><td>110</td><td>66.8</td></tr>\n",
       "</tbody>\n",
       "</table>\n"
      ],
      "text/latex": [
       "A data.frame: 6 × 18\n",
       "\\begin{tabular}{r|llllllllllllllllll}\n",
       "  & country & countrycode & year & total\\_deaths & covid\\_deaths & expected\\_deaths & excess\\_deaths & population & land\\_area & Ratio.of.Excess.death.to.COVID.19.deaths & non\\_covid\\_deaths & covid\\_deaths\\_per\\_100k & excess\\_deaths\\_per\\_100k & GDP\\_per\\_capita & Age\\_65\\_over\\_percentage & urban\\_pop\\_percentage & Pop\\_density & Access\\_to\\_quality\\_healthcare\\\\\n",
       "  & <chr> & <chr> & <int> & <dbl> & <int> & <dbl> & <dbl> & <int> & <chr> & <dbl> & <dbl> & <dbl> & <dbl> & <dbl> & <dbl> & <int> & <int> & <dbl>\\\\\n",
       "\\hline\n",
       "\t1 & Australia & AUS & 2020 & 164778 &   910 & 168241.20 & -3463.205 & 25655289 & 7682300 & -3.8 & 163868 &   3.547027 & -13.49899 & 51868.25 & 16.2 & 86 &   3 & 72.6\\\\\n",
       "\t2 & Australia & AUS & 2021 & 171718 &  1359 & 166854.12 &  4863.877 & 25688079 & 7682300 &  3.6 & 170359 &   5.290392 &  18.93437 & 60697.25 & 16.6 & 86 &   3 & 72.5\\\\\n",
       "\t3 & Australia & AUS & 2022 & 190326 & 14438 & 168414.04 & 21911.965 & 25978935 & 7682300 &  1.5 & 175888 &  55.575796 &  84.34512 & 65099.85 & 16.6 & 86 &   3 & 72.5\\\\\n",
       "\t4 & Austria   & AUT & 2020 &  91196 &  7706 &  83134.64 &  8061.356 &  8916845 & 82409   &  1.0 &  83490 &  86.420701 &  90.40592 & 48789.50 & 19.1 & 59 & 108 & 66.6\\\\\n",
       "\t5 & Austria   & AUT & 2021 &  89538 &  9153 &  81589.91 &  7948.094 &  8951520 & 82409   &  0.9 &  80385 & 102.250791 &  88.79044 & 53517.89 & 19.4 & 59 & 109 & 66.8\\\\\n",
       "\t6 & Austria   & AUT & 2022 &  91582 &  4689 &  81758.12 &  9823.883 &  9052856 & 82409   &  2.1 &  86893 &  51.795809 & 108.51695 & 52084.68 & 19.4 & 59 & 110 & 66.8\\\\\n",
       "\\end{tabular}\n"
      ],
      "text/markdown": [
       "\n",
       "A data.frame: 6 × 18\n",
       "\n",
       "| <!--/--> | country &lt;chr&gt; | countrycode &lt;chr&gt; | year &lt;int&gt; | total_deaths &lt;dbl&gt; | covid_deaths &lt;int&gt; | expected_deaths &lt;dbl&gt; | excess_deaths &lt;dbl&gt; | population &lt;int&gt; | land_area &lt;chr&gt; | Ratio.of.Excess.death.to.COVID.19.deaths &lt;dbl&gt; | non_covid_deaths &lt;dbl&gt; | covid_deaths_per_100k &lt;dbl&gt; | excess_deaths_per_100k &lt;dbl&gt; | GDP_per_capita &lt;dbl&gt; | Age_65_over_percentage &lt;dbl&gt; | urban_pop_percentage &lt;int&gt; | Pop_density &lt;int&gt; | Access_to_quality_healthcare &lt;dbl&gt; |\n",
       "|---|---|---|---|---|---|---|---|---|---|---|---|---|---|---|---|---|---|---|\n",
       "| 1 | Australia | AUS | 2020 | 164778 |   910 | 168241.20 | -3463.205 | 25655289 | 7682300 | -3.8 | 163868 |   3.547027 | -13.49899 | 51868.25 | 16.2 | 86 |   3 | 72.6 |\n",
       "| 2 | Australia | AUS | 2021 | 171718 |  1359 | 166854.12 |  4863.877 | 25688079 | 7682300 |  3.6 | 170359 |   5.290392 |  18.93437 | 60697.25 | 16.6 | 86 |   3 | 72.5 |\n",
       "| 3 | Australia | AUS | 2022 | 190326 | 14438 | 168414.04 | 21911.965 | 25978935 | 7682300 |  1.5 | 175888 |  55.575796 |  84.34512 | 65099.85 | 16.6 | 86 |   3 | 72.5 |\n",
       "| 4 | Austria   | AUT | 2020 |  91196 |  7706 |  83134.64 |  8061.356 |  8916845 | 82409   |  1.0 |  83490 |  86.420701 |  90.40592 | 48789.50 | 19.1 | 59 | 108 | 66.6 |\n",
       "| 5 | Austria   | AUT | 2021 |  89538 |  9153 |  81589.91 |  7948.094 |  8951520 | 82409   |  0.9 |  80385 | 102.250791 |  88.79044 | 53517.89 | 19.4 | 59 | 109 | 66.8 |\n",
       "| 6 | Austria   | AUT | 2022 |  91582 |  4689 |  81758.12 |  9823.883 |  9052856 | 82409   |  2.1 |  86893 |  51.795809 | 108.51695 | 52084.68 | 19.4 | 59 | 110 | 66.8 |\n",
       "\n"
      ],
      "text/plain": [
       "  country   countrycode year total_deaths covid_deaths expected_deaths\n",
       "1 Australia AUS         2020 164778         910        168241.20      \n",
       "2 Australia AUS         2021 171718        1359        166854.12      \n",
       "3 Australia AUS         2022 190326       14438        168414.04      \n",
       "4 Austria   AUT         2020  91196        7706         83134.64      \n",
       "5 Austria   AUT         2021  89538        9153         81589.91      \n",
       "6 Austria   AUT         2022  91582        4689         81758.12      \n",
       "  excess_deaths population land_area Ratio.of.Excess.death.to.COVID.19.deaths\n",
       "1 -3463.205     25655289   7682300   -3.8                                    \n",
       "2  4863.877     25688079   7682300    3.6                                    \n",
       "3 21911.965     25978935   7682300    1.5                                    \n",
       "4  8061.356      8916845   82409      1.0                                    \n",
       "5  7948.094      8951520   82409      0.9                                    \n",
       "6  9823.883      9052856   82409      2.1                                    \n",
       "  non_covid_deaths covid_deaths_per_100k excess_deaths_per_100k GDP_per_capita\n",
       "1 163868             3.547027            -13.49899              51868.25      \n",
       "2 170359             5.290392             18.93437              60697.25      \n",
       "3 175888            55.575796             84.34512              65099.85      \n",
       "4  83490            86.420701             90.40592              48789.50      \n",
       "5  80385           102.250791             88.79044              53517.89      \n",
       "6  86893            51.795809            108.51695              52084.68      \n",
       "  Age_65_over_percentage urban_pop_percentage Pop_density\n",
       "1 16.2                   86                     3        \n",
       "2 16.6                   86                     3        \n",
       "3 16.6                   86                     3        \n",
       "4 19.1                   59                   108        \n",
       "5 19.4                   59                   109        \n",
       "6 19.4                   59                   110        \n",
       "  Access_to_quality_healthcare\n",
       "1 72.6                        \n",
       "2 72.5                        \n",
       "3 72.5                        \n",
       "4 66.6                        \n",
       "5 66.8                        \n",
       "6 66.8                        "
      ]
     },
     "metadata": {},
     "output_type": "display_data"
    }
   ],
   "source": [
    "df = read.csv(\"20to22_merged_final.csv\")\n",
    "head(df)"
   ]
  },
  {
   "cell_type": "code",
   "execution_count": null,
   "id": "2df2b4ef",
   "metadata": {},
   "outputs": [],
   "source": []
  },
  {
   "cell_type": "code",
   "execution_count": 2,
   "id": "2891f9f1",
   "metadata": {},
   "outputs": [
    {
     "name": "stderr",
     "output_type": "stream",
     "text": [
      "Installing package into 'C:/Users/nicen/AppData/Local/R/win-library/4.3'\n",
      "(as 'lib' is unspecified)\n",
      "\n"
     ]
    },
    {
     "name": "stdout",
     "output_type": "stream",
     "text": [
      "package 'sandwich' successfully unpacked and MD5 sums checked\n",
      "\n",
      "The downloaded binary packages are in\n",
      "\tC:\\Users\\nicen\\AppData\\Local\\Temp\\RtmpainSJu\\downloaded_packages\n"
     ]
    }
   ],
   "source": [
    "install.packages(\"sandwich\")\n"
   ]
  },
  {
   "cell_type": "markdown",
   "id": "8a51e8c2",
   "metadata": {},
   "source": [
    "# Pooled regression with interaction terms:"
   ]
  },
  {
   "cell_type": "code",
   "execution_count": 3,
   "id": "6e5fe176",
   "metadata": {},
   "outputs": [
    {
     "data": {
      "text/plain": [
       "\n",
       "Call:\n",
       "lm(formula = excess_deaths_per_100k ~ covid_deaths_per_100k * \n",
       "    year2021 + covid_deaths_per_100k * year2022 + GDP_per_capita + \n",
       "    Age_65_over_percentage + urban_pop_percentage + Pop_density + \n",
       "    Access_to_quality_healthcare, data = df)\n",
       "\n",
       "Residuals:\n",
       "     Min       1Q   Median       3Q      Max \n",
       "-100.229  -27.086   -3.872   20.364  149.258 \n",
       "\n",
       "Coefficients:\n",
       "                                 Estimate Std. Error t value Pr(>|t|)    \n",
       "(Intercept)                     2.311e+02  7.071e+01   3.268  0.00147 ** \n",
       "covid_deaths_per_100k           1.225e+00  1.579e-01   7.755  6.6e-12 ***\n",
       "year2021                        1.003e+01  1.721e+01   0.583  0.56145    \n",
       "year2022                        5.228e+01  2.200e+01   2.376  0.01934 *  \n",
       "GDP_per_capita                 -3.311e-04  1.693e-04  -1.956  0.05312 .  \n",
       "Age_65_over_percentage         -2.003e+00  1.272e+00  -1.575  0.11825    \n",
       "urban_pop_percentage           -3.677e-01  4.030e-01  -0.912  0.36368    \n",
       "Pop_density                     1.937e-03  3.207e-02   0.060  0.95196    \n",
       "Access_to_quality_healthcare   -2.220e+00  8.605e-01  -2.580  0.01129 *  \n",
       "covid_deaths_per_100k:year2021 -1.051e-01  1.840e-01  -0.572  0.56891    \n",
       "covid_deaths_per_100k:year2022 -5.176e-01  3.405e-01  -1.520  0.13163    \n",
       "---\n",
       "Signif. codes:  0 '***' 0.001 '**' 0.01 '*' 0.05 '.' 0.1 ' ' 1\n",
       "\n",
       "Residual standard error: 41.86 on 103 degrees of freedom\n",
       "Multiple R-squared:  0.7642,\tAdjusted R-squared:  0.7414 \n",
       "F-statistic: 33.39 on 10 and 103 DF,  p-value: < 2.2e-16\n"
      ]
     },
     "metadata": {},
     "output_type": "display_data"
    }
   ],
   "source": [
    "# Create dummy variables for years\n",
    "df$year2021 <- as.numeric(df$year == 2021)\n",
    "df$year2022 <- as.numeric(df$year == 2022)\n",
    "\n",
    "# Model with interactions between COVID deaths and year dummies\n",
    "model_pooled <- lm(excess_deaths_per_100k ~ covid_deaths_per_100k * year2021 + covid_deaths_per_100k * year2022 + GDP_per_capita + Age_65_over_percentage + urban_pop_percentage + Pop_density+Access_to_quality_healthcare, data = df)\n",
    "\n",
    "summary(model_pooled)"
   ]
  },
  {
   "cell_type": "markdown",
   "id": "a036e19c",
   "metadata": {},
   "source": [
    "Residuals: The differences between the observed values and the values predicted by the model. The spread from -100.229 to 149.258 suggests some variability in the model's predictions.\n",
    "\n",
    "Coefficients:\n",
    "\n",
    "Estimate: These are the predicted changes in the dependent variable (excess deaths per 100k) for a one-unit increase in the predictor, holding all other predictors constant. For example, each unit increase in COVID-19 deaths per 100k is associated with a 1.225 increase in excess deaths per 100k.\n",
    "\n",
    "Std. Error: This indicates the standard error of the estimated coefficient, reflecting the variability of the estimate.\n",
    "t value: A test statistic showing how many standard errors the coefficient is away from 0. Larger absolute values suggest stronger evidence against the null hypothesis (which states that the coefficient is zero).\n",
    "\n",
    "Pr(>|t|): P-value, showing the probability of observing the data if the null hypothesis is true. Lower values indicate stronger evidence against the null hypothesis.\n",
    "\n",
    "Residual Standard Error: This is the average amount that the response will deviate from the true regression line. It's 41.86 in this model.\n",
    "\n",
    "Multiple R-squared and Adjusted R-squared: These provide measures of how well the model explains the variability in the response variable. The closer these values are to 1, the better the model fits the data. In this case, the model explains about 76.42% of the variability (Multiple R-squared).\n",
    "\n",
    "F-statistic and its p-value: This tests the overall significance of the model. A very low p-value (here, < 2.2e-16) suggests that the model is statistically significant, meaning at least one predictor variable has a non-zero coefficient.\n",
    "\n",
    "Overall, the model seems to have some significant predictors (like COVID-19 deaths per 100k, year2022, Access to quality healthcare) but also includes variables that are not significant predictors in this context (like Pop density, urban_pop_percentage). The model has a good fit as indicated by the R-squared values."
   ]
  },
  {
   "cell_type": "markdown",
   "id": "a147dffc",
   "metadata": {},
   "source": [
    "#  Mixed effects regression:"
   ]
  },
  {
   "cell_type": "code",
   "execution_count": 4,
   "id": "1c48b000",
   "metadata": {},
   "outputs": [
    {
     "name": "stderr",
     "output_type": "stream",
     "text": [
      "Loading required package: Matrix\n",
      "\n",
      "\n",
      "Attaching package: 'Matrix'\n",
      "\n",
      "\n",
      "The following objects are masked from 'package:tidyr':\n",
      "\n",
      "    expand, pack, unpack\n",
      "\n",
      "\n",
      "Warning message:\n",
      "\"Some predictor variables are on very different scales: consider rescaling\"\n"
     ]
    },
    {
     "data": {
      "text/plain": [
       "Linear mixed model fit by REML ['lmerMod']\n",
       "Formula: excess_deaths_per_100k ~ covid_deaths_per_100k + GDP_per_capita +  \n",
       "    Age_65_over_percentage + urban_pop_percentage + Pop_density +  \n",
       "    Access_to_quality_healthcare + (1 | countrycode) + (1 | year)\n",
       "   Data: df\n",
       "\n",
       "REML criterion at convergence: 1155.6\n",
       "\n",
       "Scaled residuals: \n",
       "    Min      1Q  Median      3Q     Max \n",
       "-2.7299 -0.5130 -0.0188  0.5346  2.6084 \n",
       "\n",
       "Random effects:\n",
       " Groups      Name        Variance Std.Dev.\n",
       " countrycode (Intercept) 1070.2   32.71   \n",
       " year        (Intercept)  160.6   12.67   \n",
       " Residual                 797.9   28.25   \n",
       "Number of obs: 114, groups:  countrycode, 38; year, 3\n",
       "\n",
       "Fixed effects:\n",
       "                               Estimate Std. Error t value\n",
       "(Intercept)                   2.034e+02  9.761e+01   2.083\n",
       "covid_deaths_per_100k         1.228e+00  6.975e-02  17.599\n",
       "GDP_per_capita               -2.419e-04  2.444e-04  -0.990\n",
       "Age_65_over_percentage       -2.332e+00  1.877e+00  -1.242\n",
       "urban_pop_percentage         -3.478e-01  5.984e-01  -0.581\n",
       "Pop_density                   1.036e-02  4.743e-02   0.218\n",
       "Access_to_quality_healthcare -1.715e+00  1.215e+00  -1.412\n",
       "\n",
       "Correlation of Fixed Effects:\n",
       "            (Intr) c___10 GDP_p_ A_65__ urbn__ Pp_dns\n",
       "cvd_dt__100 -0.249                                   \n",
       "GDP_per_cpt  0.333  0.084                            \n",
       "Ag_65_vr_pr -0.606 -0.025 -0.321                     \n",
       "urbn_pp_prc -0.325  0.085 -0.171  0.149              \n",
       "Pop_density  0.349 -0.022  0.094 -0.291 -0.245       \n",
       "Accss_t_ql_ -0.803  0.185 -0.309  0.302 -0.209 -0.249\n",
       "fit warnings:\n",
       "Some predictor variables are on very different scales: consider rescaling"
      ]
     },
     "metadata": {},
     "output_type": "display_data"
    }
   ],
   "source": [
    "library(lme4)\n",
    "\n",
    "# Model with random intercepts for country and year\n",
    "model_me <- lmer(excess_deaths_per_100k ~ covid_deaths_per_100k + GDP_per_capita + Age_65_over_percentage + urban_pop_percentage + Pop_density+Access_to_quality_healthcare+ (1 | countrycode) + (1 | year), data = df)\n",
    "\n",
    "summary(model_me)"
   ]
  },
  {
   "cell_type": "code",
   "execution_count": 6,
   "id": "f672ba55",
   "metadata": {},
   "outputs": [],
   "source": [
    "\n",
    "library(foreign)\n",
    "\n",
    "# Create a conditional plot using coplot\n",
    "coplot(excess_deaths_per_100k ~ year | country, type = \"l\", data = df)\n"
   ]
  },
  {
   "cell_type": "code",
   "execution_count": 5,
   "id": "d452e5a7",
   "metadata": {},
   "outputs": [
    {
     "data": {
      "image/png": "[encoded data removed]",
      "text/plain": [
       "plot without title"
      ]
     },
     "metadata": {
      "image/png": {
       "height": 420,
       "width": 420
      }
     },
     "output_type": "display_data"
    }
   ],
   "source": [
    "coplot(excess_deaths_per_100k ~ year|country, type=\"b\", data=df) "
   ]
  },
  {
   "cell_type": "code",
   "execution_count": 9,
   "id": "49a397f4",
   "metadata": {},
   "outputs": [],
   "source": [
    "library(car) \n",
    "scatterplot(excess_deaths_per_100k~year|country, boxplots=FALSE, smooth=TRUE, reg.line=FALSE, data=df)"
   ]
  },
  {
   "cell_type": "code",
   "execution_count": 8,
   "id": "e5662e27",
   "metadata": {},
   "outputs": [],
   "source": [
    "install.packages(\"gplots\")\n"
   ]
  },
  {
   "cell_type": "markdown",
   "id": "a53b72f6",
   "metadata": {},
   "source": [
    "#  Heterogeneity across countries "
   ]
  },
  {
   "cell_type": "code",
   "execution_count": 5,
   "id": "0b4477d0",
   "metadata": {},
   "outputs": [
    {
     "name": "stderr",
     "output_type": "stream",
     "text": [
      "Warning message:\n",
      "\"package 'gplots' was built under R version 4.3.2\"\n",
      "\n",
      "Attaching package: 'gplots'\n",
      "\n",
      "\n",
      "The following object is masked from 'package:stats':\n",
      "\n",
      "    lowess\n",
      "\n",
      "\n",
      "Warning message in arrows(x, li, x, pmax(y - gap, li), col = barcol, lwd = lwd, :\n",
      "\"zero-length arrow is of indeterminate angle and so skipped\"\n",
      "Warning message in arrows(x, li, x, pmax(y - gap, li), col = barcol, lwd = lwd, :\n",
      "\"zero-length arrow is of indeterminate angle and so skipped\"\n",
      "Warning message in arrows(x, ui, x, pmin(y + gap, ui), col = barcol, lwd = lwd, :\n",
      "\"zero-length arrow is of indeterminate angle and so skipped\"\n",
      "Warning message in arrows(x, ui, x, pmin(y + gap, ui), col = barcol, lwd = lwd, :\n",
      "\"zero-length arrow is of indeterminate angle and so skipped\"\n"
     ]
    },
    {
     "data": {
      "image/png": "[encoded data removed]",
      "text/plain": [
       "Plot with title \"Heterogeineity across countries\""
      ]
     },
     "metadata": {
      "image/png": {
       "height": 420,
       "width": 420
      }
     },
     "output_type": "display_data"
    }
   ],
   "source": [
    "library(gplots) \n",
    "plotmeans(excess_deaths_per_100k ~ country, main=\"Heterogeineity across countries\", data=df)"
   ]
  },
  {
   "cell_type": "markdown",
   "id": "cf2c33b8",
   "metadata": {},
   "source": [
    "# Heterogeneity across years "
   ]
  },
  {
   "cell_type": "code",
   "execution_count": 7,
   "id": "4f4f3556",
   "metadata": {},
   "outputs": [
    {
     "data": {
      "image/png": "[encoded data removed]",
      "text/plain": [
       "Plot with title \"Heterogeineity across years, Excess deaths\""
      ]
     },
     "metadata": {
      "image/png": {
       "height": 420,
       "width": 420
      }
     },
     "output_type": "display_data"
    }
   ],
   "source": [
    "plotmeans(excess_deaths_per_100k ~ year, main=\"Heterogeineity across years, Excess deaths\", data=df)"
   ]
  },
  {
   "cell_type": "code",
   "execution_count": 6,
   "id": "5cc6fd02",
   "metadata": {},
   "outputs": [
    {
     "name": "stderr",
     "output_type": "stream",
     "text": [
      "Loading required package: carData\n",
      "\n",
      "\n",
      "Attaching package: 'car'\n",
      "\n",
      "\n",
      "The following object is masked from 'package:dplyr':\n",
      "\n",
      "    recode\n",
      "\n",
      "\n",
      "The following object is masked from 'package:purrr':\n",
      "\n",
      "    some\n",
      "\n",
      "\n"
     ]
    },
    {
     "data": {
      "image/png": "[encoded data removed]",
      "text/plain": [
       "Plot with title \"Heterogeneity across years, Excess deaths\""
      ]
     },
     "metadata": {
      "image/png": {
       "height": 420,
       "width": 420
      }
     },
     "output_type": "display_data"
    }
   ],
   "source": [
    "library(car)\n",
    "library(gplots) \n",
    "plotmeans(excess_deaths_per_100k ~ year, main=\"Heterogeneity across years, Excess deaths\", ylab=\"Excess deaths, Per 100k\", data=df)\n"
   ]
  },
  {
   "cell_type": "code",
   "execution_count": 8,
   "id": "f51cfc6d",
   "metadata": {},
   "outputs": [
    {
     "data": {
      "image/png": "[encoded data removed]",
      "text/plain": [
       "Plot with title \"Heterogeneity across years, COVID-19 deaths\""
      ]
     },
     "metadata": {
      "image/png": {
       "height": 420,
       "width": 420
      }
     },
     "output_type": "display_data"
    }
   ],
   "source": [
    "\n",
    "plotmeans(covid_deaths_per_100k ~ year, main=\"Heterogeneity across years, COVID-19 deaths\",ylab=\"COVID-19 deaths, Per 100k\", data=df)"
   ]
  },
  {
   "cell_type": "markdown",
   "id": "6c499ba3",
   "metadata": {},
   "source": [
    "# OLS regression"
   ]
  },
  {
   "cell_type": "code",
   "execution_count": 9,
   "id": "174fe1da",
   "metadata": {},
   "outputs": [
    {
     "data": {
      "text/plain": [
       "\n",
       "Call:\n",
       "lm(formula = excess_deaths_per_100k ~ covid_deaths_per_100k, \n",
       "    data = df)\n",
       "\n",
       "Residuals:\n",
       "     Min       1Q   Median       3Q      Max \n",
       "-100.044  -27.481   -5.609   23.913  156.915 \n",
       "\n",
       "Coefficients:\n",
       "                      Estimate Std. Error t value Pr(>|t|)    \n",
       "(Intercept)            8.48275    7.19859   1.178    0.241    \n",
       "covid_deaths_per_100k  1.25267    0.07873  15.912   <2e-16 ***\n",
       "---\n",
       "Signif. codes:  0 '***' 0.001 '**' 0.01 '*' 0.05 '.' 0.1 ' ' 1\n",
       "\n",
       "Residual standard error: 45.78 on 112 degrees of freedom\n",
       "Multiple R-squared:  0.6933,\tAdjusted R-squared:  0.6906 \n",
       "F-statistic: 253.2 on 1 and 112 DF,  p-value: < 2.2e-16\n"
      ]
     },
     "metadata": {},
     "output_type": "display_data"
    }
   ],
   "source": [
    " ols<-lm(excess_deaths_per_100k ~ covid_deaths_per_100k, data=df) \n",
    " summary(ols)"
   ]
  },
  {
   "cell_type": "code",
   "execution_count": 10,
   "id": "e1f250d6",
   "metadata": {},
   "outputs": [
    {
     "data": {
      "image/png": "[encoded data removed]",
      "text/plain": [
       "plot without title"
      ]
     },
     "metadata": {
      "image/png": {
       "height": 420,
       "width": 420
      }
     },
     "output_type": "display_data"
    }
   ],
   "source": [
    "plot(df$covid_deaths_per_100k, df$excess_deaths_per_100k, pch=19, xlab=\"x1\", ylab=\"y\") \n",
    "abline(lm(df$excess_deaths_per_100k~df$covid_deaths_per_100k),lwd=3, col=\"red\")"
   ]
  },
  {
   "cell_type": "markdown",
   "id": "56734ebc",
   "metadata": {},
   "source": [
    "# Fixed effects using Least squares dummy variable model"
   ]
  },
  {
   "cell_type": "code",
   "execution_count": 11,
   "id": "9dbefb52",
   "metadata": {},
   "outputs": [
    {
     "data": {
      "text/plain": [
       "\n",
       "Call:\n",
       "lm(formula = excess_deaths_per_100k ~ covid_deaths_per_100k + \n",
       "    factor(country) - 1, data = df)\n",
       "\n",
       "Residuals:\n",
       "    Min      1Q  Median      3Q     Max \n",
       "-75.618 -16.721  -0.162  14.774  60.136 \n",
       "\n",
       "Coefficients:\n",
       "                              Estimate Std. Error t value Pr(>|t|)    \n",
       "covid_deaths_per_100k           1.1787     0.0707  16.671  < 2e-16 ***\n",
       "factor(country)Australia        4.6194    17.7029   0.261  0.79485    \n",
       "factor(country)Austria          1.4267    18.5258   0.077  0.93882    \n",
       "factor(country)Belgium        -21.8718    18.9070  -1.157  0.25102    \n",
       "factor(country)Canada           3.6056    17.8982   0.201  0.84089    \n",
       "factor(country)Chile            1.6328    18.6650   0.087  0.93052    \n",
       "factor(country)Colombia        14.6908    18.8195   0.781  0.43748    \n",
       "factor(country)Costa Rica     -16.6561    18.1183  -0.919  0.36089    \n",
       "factor(country)Czechia         19.1555    19.9773   0.959  0.34071    \n",
       "factor(country)Denmark        -15.6174    17.9059  -0.872  0.38589    \n",
       "factor(country)Estonia         44.0780    18.3460   2.403  0.01875 *  \n",
       "factor(country)Finland         22.7569    17.9418   1.268  0.20859    \n",
       "factor(country)France         -21.9397    18.5216  -1.185  0.23994    \n",
       "factor(country)Germany         13.6122    18.2187   0.747  0.45731    \n",
       "factor(country)Greece          -5.7285    19.2870  -0.297  0.76728    \n",
       "factor(country)Hungary        -24.9395    21.2077  -1.176  0.24333    \n",
       "factor(country)Iceland          9.2707    17.6802   0.524  0.60158    \n",
       "factor(country)Ireland        -10.7464    18.0630  -0.595  0.55367    \n",
       "factor(country)Israel          -2.8158    17.8964  -0.157  0.87540    \n",
       "factor(country)Italy           29.4240    19.1081   1.540  0.12780    \n",
       "factor(country)Japan           22.5367    17.6713   1.275  0.20613    \n",
       "factor(country)Latvia          64.9250    19.2500   3.373  0.00118 ** \n",
       "factor(country)Lithuania      165.5499    19.3510   8.555 1.05e-12 ***\n",
       "factor(country)Luxembourg     -61.4818    18.1679  -3.384  0.00114 ** \n",
       "factor(country)Mexico          80.1616    18.6104   4.307 4.94e-05 ***\n",
       "factor(country)Netherlands     38.2149    17.9100   2.134  0.03614 *  \n",
       "factor(country)New Zealand    -18.7077    17.6708  -1.059  0.29314    \n",
       "factor(country)Norway          14.5015    17.7372   0.818  0.41619    \n",
       "factor(country)Poland          48.6726    19.0973   2.549  0.01286 *  \n",
       "factor(country)Portugal        18.7900    18.5734   1.012  0.31495    \n",
       "factor(country)Slovakia        46.1099    19.8094   2.328  0.02263 *  \n",
       "factor(country)Slovenia       -22.7257    19.3111  -1.177  0.24299    \n",
       "factor(country)South Korea     17.0853    17.6987   0.965  0.33748    \n",
       "factor(country)Spain           11.1915    18.5891   0.602  0.54896    \n",
       "factor(country)Sweden         -25.9043    18.3324  -1.413  0.16178    \n",
       "factor(country)Switzerland     16.1286    18.0618   0.893  0.37473    \n",
       "factor(country)Turkiye         48.3061    17.8578   2.705  0.00845 ** \n",
       "factor(country)United Kingdom -26.5346    19.1362  -1.387  0.16967    \n",
       "factor(country)Unites States   48.0683    19.2738   2.494  0.01483 *  \n",
       "---\n",
       "Signif. codes:  0 '***' 0.001 '**' 0.01 '*' 0.05 '.' 0.1 ' ' 1\n",
       "\n",
       "Residual standard error: 30.55 on 75 degrees of freedom\n",
       "Multiple R-squared:  0.9635,\tAdjusted R-squared:  0.9445 \n",
       "F-statistic: 50.73 on 39 and 75 DF,  p-value: < 2.2e-16\n"
      ]
     },
     "metadata": {},
     "output_type": "display_data"
    }
   ],
   "source": [
    " fixed.dum <-lm(excess_deaths_per_100k ~ covid_deaths_per_100k + factor(country) -1, data=df) \n",
    "summary(fixed.dum)"
   ]
  },
  {
   "cell_type": "markdown",
   "id": "c6bf6491",
   "metadata": {},
   "source": [
    "\n",
    "Here's an analysis of the regression results you provided:\n",
    "\n",
    "Model Summary:\n",
    "\n",
    "R-squared (0.9635): The model explains 96.35% of the variability in excess deaths per 100k.\n",
    "Adjusted R-squared (0.9445): Accounts for the number of predictors, indicating a strong fit even considering model complexity.\n",
    "F-statistic (50.73, p < 2.2e-16): Highly significant, suggesting the model overall has predictive power.\n",
    "Key Findings:\n",
    "\n",
    "COVID deaths per 100k: Strongly associated with excess deaths per 100k (coefficient = 1.18, p < 2e-16). A unit increase in COVID deaths per 100k is associated with an estimated 1.18 increase in excess deaths per 100k.\n",
    "Country Effects:\n",
    "Significant differences in excess deaths across countries, even after controlling for COVID deaths.\n",
    "Countries with significantly higher excess deaths (positive coefficients): Estonia, Lithuania, Latvia, Mexico, Netherlands, Poland, Slovakia, Turkey.\n",
    "Countries with significantly lower excess deaths (negative coefficients): Luxembourg.\n",
    "Other countries don't show significant differences from the reference country (omitted due to -1 in the formula).\n",
    "Additional Considerations:\n",
    "\n",
    "Residual standard error (30.55): Indicates some variability in excess deaths not explained by the model, suggesting room for improvement.\n",
    "Potential confounding variables: Consider other factors that might influence excess deaths (e.g., healthcare quality, socioeconomic factors, age distribution) to refine the model.\n",
    "Model assumptions: Check for linearity, normality, homoscedasticity, and independence of residuals to ensure valid conclusions."
   ]
  },
  {
   "cell_type": "code",
   "execution_count": null,
   "id": "c2e67385",
   "metadata": {},
   "outputs": [],
   "source": []
  },
  {
   "cell_type": "code",
   "execution_count": null,
   "id": "bd008bbb",
   "metadata": {},
   "outputs": [],
   "source": []
  },
  {
   "cell_type": "code",
   "execution_count": 12,
   "id": "455ebb3b",
   "metadata": {},
   "outputs": [
    {
     "name": "stderr",
     "output_type": "stream",
     "text": [
      "Warning message in scatterplot.default(X[, 2], X[, 1], groups = X[, 3], xlab = xlab, :\n",
      "\"number of groups exceeds number of available colors\n",
      "  colors are recycled\"\n",
      "Warning message in plot.xy(xy.coords(x, y), type = type, ...):\n",
      "\"unimplemented pch value '26'\"\n",
      "Warning message in plot.xy(xy.coords(x, y), type = type, ...):\n",
      "\"unimplemented pch value '26'\"\n",
      "Warning message in plot.xy(xy.coords(x, y), type = type, ...):\n",
      "\"unimplemented pch value '26'\"\n",
      "Warning message in plot.xy(xy.coords(x, y), type = type, ...):\n",
      "\"unimplemented pch value '27'\"\n",
      "Warning message in plot.xy(xy.coords(x, y), type = type, ...):\n",
      "\"unimplemented pch value '27'\"\n",
      "Warning message in plot.xy(xy.coords(x, y), type = type, ...):\n",
      "\"unimplemented pch value '27'\"\n",
      "Warning message in plot.xy(xy.coords(x, y), type = type, ...):\n",
      "\"unimplemented pch value '28'\"\n",
      "Warning message in plot.xy(xy.coords(x, y), type = type, ...):\n",
      "\"unimplemented pch value '28'\"\n",
      "Warning message in plot.xy(xy.coords(x, y), type = type, ...):\n",
      "\"unimplemented pch value '28'\"\n",
      "Warning message in plot.xy(xy.coords(x, y), type = type, ...):\n",
      "\"unimplemented pch value '29'\"\n",
      "Warning message in plot.xy(xy.coords(x, y), type = type, ...):\n",
      "\"unimplemented pch value '29'\"\n",
      "Warning message in plot.xy(xy.coords(x, y), type = type, ...):\n",
      "\"unimplemented pch value '29'\"\n",
      "Warning message in plot.xy(xy.coords(x, y), type = type, ...):\n",
      "\"unimplemented pch value '30'\"\n",
      "Warning message in plot.xy(xy.coords(x, y), type = type, ...):\n",
      "\"unimplemented pch value '30'\"\n",
      "Warning message in plot.xy(xy.coords(x, y), type = type, ...):\n",
      "\"unimplemented pch value '30'\"\n",
      "Warning message in plot.xy(xy.coords(x, y), type = type, ...):\n",
      "\"unimplemented pch value '31'\"\n",
      "Warning message in plot.xy(xy.coords(x, y), type = type, ...):\n",
      "\"unimplemented pch value '31'\"\n",
      "Warning message in plot.xy(xy.coords(x, y), type = type, ...):\n",
      "\"unimplemented pch value '31'\"\n",
      "Warning message in plot.xy(xy.coords(x, y), type = type, ...):\n",
      "\"unimplemented pch value '26'\"\n",
      "Warning message in plot.xy(xy.coords(x, y), type = type, ...):\n",
      "\"unimplemented pch value '27'\"\n",
      "Warning message in plot.xy(xy.coords(x, y), type = type, ...):\n",
      "\"unimplemented pch value '28'\"\n",
      "Warning message in plot.xy(xy.coords(x, y), type = type, ...):\n",
      "\"unimplemented pch value '29'\"\n",
      "Warning message in plot.xy(xy.coords(x, y), type = type, ...):\n",
      "\"unimplemented pch value '30'\"\n",
      "Warning message in plot.xy(xy.coords(x, y), type = type, ...):\n",
      "\"unimplemented pch value '31'\"\n"
     ]
    },
    {
     "data": {
      "image/png": "[encoded data removed]",
      "text/plain": [
       "plot without title"
      ]
     },
     "metadata": {
      "image/png": {
       "height": 420,
       "width": 420
      }
     },
     "output_type": "display_data"
    }
   ],
   "source": [
    " yhat <-fixed.dum$fitted \n",
    "\n",
    "\n",
    "scatterplot(yhat~df$covid_deaths_per_100k|df$country, boxplots=FALSE, xlab=\"covid_deaths_per_100k\", ylab=\"yhat\",smooth=FALSE) \n",
    "abline(lm(df$excess_deaths_per_100k~df$covid_deaths_per_100k),lwd=3, col=\"red\")"
   ]
  },
  {
   "cell_type": "code",
   "execution_count": 13,
   "id": "19fa30c7",
   "metadata": {},
   "outputs": [
    {
     "data": {
      "text/plain": [
       "\n",
       "Call:\n",
       "lm(formula = excess_deaths_per_100k ~ covid_deaths_per_100k + \n",
       "    factor(year) - 1, data = df)\n",
       "\n",
       "Residuals:\n",
       "     Min       1Q   Median       3Q      Max \n",
       "-102.189  -23.465   -4.292   19.740  156.039 \n",
       "\n",
       "Coefficients:\n",
       "                      Estimate Std. Error t value Pr(>|t|)    \n",
       "covid_deaths_per_100k  1.30972    0.08195  15.982   <2e-16 ***\n",
       "factor(year)2020      -1.07641    8.95944  -0.120   0.9046    \n",
       "factor(year)2021      -6.58995   10.92368  -0.603   0.5476    \n",
       "factor(year)2022      20.54373    8.61548   2.385   0.0188 *  \n",
       "---\n",
       "Signif. codes:  0 '***' 0.001 '**' 0.01 '*' 0.05 '.' 0.1 ' ' 1\n",
       "\n",
       "Residual standard error: 44.74 on 110 degrees of freedom\n",
       "Multiple R-squared:  0.8851,\tAdjusted R-squared:  0.8809 \n",
       "F-statistic: 211.8 on 4 and 110 DF,  p-value: < 2.2e-16\n"
      ]
     },
     "metadata": {},
     "output_type": "display_data"
    }
   ],
   "source": [
    " fixed.dum.year <-lm(excess_deaths_per_100k ~ covid_deaths_per_100k + factor(year) -1, data=df) \n",
    "summary(fixed.dum.year)"
   ]
  },
  {
   "cell_type": "code",
   "execution_count": 14,
   "id": "3249a384",
   "metadata": {},
   "outputs": [
    {
     "data": {
      "image/png": "[encoded data removed]",
      "text/plain": [
       "plot without title"
      ]
     },
     "metadata": {
      "image/png": {
       "height": 420,
       "width": 420
      }
     },
     "output_type": "display_data"
    }
   ],
   "source": [
    "yhat_year <-fixed.dum.year$fitted \n",
    "\n",
    "\n",
    "scatterplot(yhat_year~df$covid_deaths_per_100k|df$year, boxplots=FALSE, xlab=\"covid_deaths_per_100k\", ylab=\"yhat_year\",smooth=FALSE) \n",
    "abline(lm(df$excess_deaths_per_100k~df$covid_deaths_per_100k),lwd=3, col=\"red\")"
   ]
  },
  {
   "cell_type": "code",
   "execution_count": 37,
   "id": "426fc829",
   "metadata": {},
   "outputs": [
    {
     "name": "stderr",
     "output_type": "stream",
     "text": [
      "Installing package into 'C:/Users/nicen/AppData/Local/R/win-library/4.3'\n",
      "(as 'lib' is unspecified)\n",
      "\n",
      "also installing the dependencies 'miscTools', 'rbibutils', 'bdsmatrix', 'collapse', 'maxLik', 'Rdpack'\n",
      "\n",
      "\n"
     ]
    },
    {
     "name": "stdout",
     "output_type": "stream",
     "text": [
      "package 'miscTools' successfully unpacked and MD5 sums checked\n",
      "package 'rbibutils' successfully unpacked and MD5 sums checked\n",
      "package 'bdsmatrix' successfully unpacked and MD5 sums checked\n",
      "package 'collapse' successfully unpacked and MD5 sums checked\n",
      "package 'maxLik' successfully unpacked and MD5 sums checked\n",
      "package 'Rdpack' successfully unpacked and MD5 sums checked\n",
      "package 'plm' successfully unpacked and MD5 sums checked\n",
      "\n",
      "The downloaded binary packages are in\n",
      "\tC:\\Users\\nicen\\AppData\\Local\\Temp\\Rtmp2J9XWL\\downloaded_packages\n"
     ]
    }
   ],
   "source": [
    "install.packages(\"plm\")"
   ]
  },
  {
   "cell_type": "code",
   "execution_count": 35,
   "id": "44cac792",
   "metadata": {},
   "outputs": [],
   "source": [
    "#  library(apsrtable) \n",
    "#  apsrtable(ols,fixed.dum.year, model.names= c(\"OLS\", \"OLS_DUM\"))   # Displays a table in Latex form"
   ]
  },
  {
   "cell_type": "code",
   "execution_count": 15,
   "id": "3df5e9ed",
   "metadata": {},
   "outputs": [
    {
     "name": "stderr",
     "output_type": "stream",
     "text": [
      "Warning message:\n",
      "\"package 'plm' was built under R version 4.3.2\"\n",
      "\n",
      "Attaching package: 'plm'\n",
      "\n",
      "\n",
      "The following objects are masked from 'package:dplyr':\n",
      "\n",
      "    between, lag, lead\n",
      "\n",
      "\n"
     ]
    },
    {
     "data": {
      "text/plain": [
       "Oneway (individual) effect Within Model\n",
       "\n",
       "Call:\n",
       "plm(formula = excess_deaths_per_100k ~ covid_deaths_per_100k, \n",
       "    data = df, model = \"within\", index = c(\"country\", \"year\"))\n",
       "\n",
       "Balanced Panel: n = 38, T = 3, N = 114\n",
       "\n",
       "Residuals:\n",
       "    Min.  1st Qu.   Median  3rd Qu.     Max. \n",
       "-75.6182 -16.7213  -0.1622  14.7743  60.1355 \n",
       "\n",
       "Coefficients:\n",
       "                      Estimate Std. Error t-value  Pr(>|t|)    \n",
       "covid_deaths_per_100k 1.178677   0.070701  16.671 < 2.2e-16 ***\n",
       "---\n",
       "Signif. codes:  0 '***' 0.001 '**' 0.01 '*' 0.05 '.' 0.1 ' ' 1\n",
       "\n",
       "Total Sum of Squares:    329380\n",
       "Residual Sum of Squares: 69995\n",
       "R-Squared:      0.78749\n",
       "Adj. R-Squared: 0.67982\n",
       "F-statistic: 277.93 on 1 and 75 DF, p-value: < 2.22e-16"
      ]
     },
     "metadata": {},
     "output_type": "display_data"
    }
   ],
   "source": [
    " library(plm) \n",
    "fixed <-plm(excess_deaths_per_100k ~ covid_deaths_per_100k, data=df, index=c(\"country\", \"year\"), model=\"within\") \n",
    "summary(fixed) "
   ]
  },
  {
   "cell_type": "markdown",
   "id": "5564a0b3",
   "metadata": {},
   "source": [
    "# Display the fixed effects (constants for each country)"
   ]
  },
  {
   "cell_type": "code",
   "execution_count": 19,
   "id": "af42116c",
   "metadata": {},
   "outputs": [
    {
     "data": {
      "text/html": [
       "<style>\n",
       ".dl-inline {width: auto; margin:0; padding: 0}\n",
       ".dl-inline>dt, .dl-inline>dd {float: none; width: auto; display: inline-block}\n",
       ".dl-inline>dt::after {content: \":\\0020\"; padding-right: .5ex}\n",
       ".dl-inline>dt:not(:first-of-type) {padding-left: .5ex}\n",
       "</style><dl class=dl-inline><dt>Australia</dt><dd>4.6193800790908</dd><dt>Austria</dt><dd>1.42668874096714</dd><dt>Belgium</dt><dd>-21.8718299903238</dd><dt>Canada</dt><dd>3.60557765589163</dd><dt>Chile</dt><dd>1.63284705782338</dd><dt>Colombia</dt><dd>14.6908302366704</dd><dt>Costa Rica</dt><dd>-16.6560503423395</dd><dt>Czechia</dt><dd>19.1554766855255</dd><dt>Denmark</dt><dd>-15.6173787741593</dd><dt>Estonia</dt><dd>44.0780367493979</dd><dt>Finland</dt><dd>22.756894149787</dd><dt>France</dt><dd>-21.9397406920738</dd><dt>Germany</dt><dd>13.6122395243791</dd><dt>Greece</dt><dd>-5.72850766487252</dd><dt>Hungary</dt><dd>-24.9395041374372</dd><dt>Iceland</dt><dd>9.27067383410758</dd><dt>Ireland</dt><dd>-10.7464098164618</dd><dt>Israel</dt><dd>-2.81577080150995</dd><dt>Italy</dt><dd>29.4240264405938</dd><dt>Japan</dt><dd>22.5366573873492</dd><dt>Latvia</dt><dd>64.9250090583768</dd><dt>Lithuania</dt><dd>165.549911726471</dd><dt>Luxembourg</dt><dd>-61.48179419235</dd><dt>Mexico</dt><dd>80.1615506863777</dd><dt>Netherlands</dt><dd>38.2148950144329</dd><dt>New Zealand</dt><dd>-18.7076904039909</dd><dt>Norway</dt><dd>14.5014914431878</dd><dt>Poland</dt><dd>48.6726137616427</dd><dt>Portugal</dt><dd>18.790033249318</dd><dt>Slovakia</dt><dd>46.1099088636626</dd><dt>Slovenia</dt><dd>-22.7256573021844</dd><dt>South Korea</dt><dd>17.0853044325933</dd><dt>Spain</dt><dd>11.1915084907942</dd><dt>Sweden</dt><dd>-25.9043057987579</dd><dt>Switzerland</dt><dd>16.1285870916423</dd><dt>Turkiye</dt><dd>48.3060715304879</dd><dt>United Kingdom</dt><dd>-26.5345807702528</dd><dt>Unites States</dt><dd>48.0682935961681</dd></dl>\n"
      ],
      "text/latex": [
       "\\begin{description*}\n",
       "\\item[Australia] 4.6193800790908\n",
       "\\item[Austria] 1.42668874096714\n",
       "\\item[Belgium] -21.8718299903238\n",
       "\\item[Canada] 3.60557765589163\n",
       "\\item[Chile] 1.63284705782338\n",
       "\\item[Colombia] 14.6908302366704\n",
       "\\item[Costa Rica] -16.6560503423395\n",
       "\\item[Czechia] 19.1554766855255\n",
       "\\item[Denmark] -15.6173787741593\n",
       "\\item[Estonia] 44.0780367493979\n",
       "\\item[Finland] 22.756894149787\n",
       "\\item[France] -21.9397406920738\n",
       "\\item[Germany] 13.6122395243791\n",
       "\\item[Greece] -5.72850766487252\n",
       "\\item[Hungary] -24.9395041374372\n",
       "\\item[Iceland] 9.27067383410758\n",
       "\\item[Ireland] -10.7464098164618\n",
       "\\item[Israel] -2.81577080150995\n",
       "\\item[Italy] 29.4240264405938\n",
       "\\item[Japan] 22.5366573873492\n",
       "\\item[Latvia] 64.9250090583768\n",
       "\\item[Lithuania] 165.549911726471\n",
       "\\item[Luxembourg] -61.48179419235\n",
       "\\item[Mexico] 80.1615506863777\n",
       "\\item[Netherlands] 38.2148950144329\n",
       "\\item[New Zealand] -18.7076904039909\n",
       "\\item[Norway] 14.5014914431878\n",
       "\\item[Poland] 48.6726137616427\n",
       "\\item[Portugal] 18.790033249318\n",
       "\\item[Slovakia] 46.1099088636626\n",
       "\\item[Slovenia] -22.7256573021844\n",
       "\\item[South Korea] 17.0853044325933\n",
       "\\item[Spain] 11.1915084907942\n",
       "\\item[Sweden] -25.9043057987579\n",
       "\\item[Switzerland] 16.1285870916423\n",
       "\\item[Turkiye] 48.3060715304879\n",
       "\\item[United Kingdom] -26.5345807702528\n",
       "\\item[Unites States] 48.0682935961681\n",
       "\\end{description*}\n"
      ],
      "text/markdown": [
       "Australia\n",
       ":   4.6193800790908Austria\n",
       ":   1.42668874096714Belgium\n",
       ":   -21.8718299903238Canada\n",
       ":   3.60557765589163Chile\n",
       ":   1.63284705782338Colombia\n",
       ":   14.6908302366704Costa Rica\n",
       ":   -16.6560503423395Czechia\n",
       ":   19.1554766855255Denmark\n",
       ":   -15.6173787741593Estonia\n",
       ":   44.0780367493979Finland\n",
       ":   22.756894149787France\n",
       ":   -21.9397406920738Germany\n",
       ":   13.6122395243791Greece\n",
       ":   -5.72850766487252Hungary\n",
       ":   -24.9395041374372Iceland\n",
       ":   9.27067383410758Ireland\n",
       ":   -10.7464098164618Israel\n",
       ":   -2.81577080150995Italy\n",
       ":   29.4240264405938Japan\n",
       ":   22.5366573873492Latvia\n",
       ":   64.9250090583768Lithuania\n",
       ":   165.549911726471Luxembourg\n",
       ":   -61.48179419235Mexico\n",
       ":   80.1615506863777Netherlands\n",
       ":   38.2148950144329New Zealand\n",
       ":   -18.7076904039909Norway\n",
       ":   14.5014914431878Poland\n",
       ":   48.6726137616427Portugal\n",
       ":   18.790033249318Slovakia\n",
       ":   46.1099088636626Slovenia\n",
       ":   -22.7256573021844South Korea\n",
       ":   17.0853044325933Spain\n",
       ":   11.1915084907942Sweden\n",
       ":   -25.9043057987579Switzerland\n",
       ":   16.1285870916423Turkiye\n",
       ":   48.3060715304879United Kingdom\n",
       ":   -26.5345807702528Unites States\n",
       ":   48.0682935961681\n",
       "\n"
      ],
      "text/plain": [
       "     Australia        Austria        Belgium         Canada          Chile \n",
       "        4.6194         1.4267       -21.8718         3.6056         1.6328 \n",
       "      Colombia     Costa Rica        Czechia        Denmark        Estonia \n",
       "       14.6908       -16.6561        19.1555       -15.6174        44.0780 \n",
       "       Finland         France        Germany         Greece        Hungary \n",
       "       22.7569       -21.9397        13.6122        -5.7285       -24.9395 \n",
       "       Iceland        Ireland         Israel          Italy          Japan \n",
       "        9.2707       -10.7464        -2.8158        29.4240        22.5367 \n",
       "        Latvia      Lithuania     Luxembourg         Mexico    Netherlands \n",
       "       64.9250       165.5499       -61.4818        80.1616        38.2149 \n",
       "   New Zealand         Norway         Poland       Portugal       Slovakia \n",
       "      -18.7077        14.5015        48.6726        18.7900        46.1099 \n",
       "      Slovenia    South Korea          Spain         Sweden    Switzerland \n",
       "      -22.7257        17.0853        11.1915       -25.9043        16.1286 \n",
       "       Turkiye United Kingdom  Unites States \n",
       "       48.3061       -26.5346        48.0683 "
      ]
     },
     "metadata": {},
     "output_type": "display_data"
    }
   ],
   "source": [
    "fixef(fixed)"
   ]
  },
  {
   "cell_type": "markdown",
   "id": "1cb185f5",
   "metadata": {},
   "source": [
    "#  Testing for fixed effects, null: OLS better than fixed"
   ]
  },
  {
   "cell_type": "code",
   "execution_count": 20,
   "id": "30896ede",
   "metadata": {},
   "outputs": [
    {
     "data": {
      "text/plain": [
       "\n",
       "\tF test for individual effects\n",
       "\n",
       "data:  excess_deaths_per_100k ~ covid_deaths_per_100k\n",
       "F = 4.7713, df1 = 37, df2 = 75, p-value = 4.935e-09\n",
       "alternative hypothesis: significant effects\n"
      ]
     },
     "metadata": {},
     "output_type": "display_data"
    }
   ],
   "source": [
    " pFtest(fixed, ols)"
   ]
  },
  {
   "cell_type": "markdown",
   "id": "6a6bb738",
   "metadata": {},
   "source": [
    "# RANDOM-EFFECTS MODEL (Random Intercept, Partial Pooling Model)"
   ]
  },
  {
   "cell_type": "code",
   "execution_count": 21,
   "id": "e180c3ee",
   "metadata": {},
   "outputs": [
    {
     "data": {
      "text/plain": [
       "Oneway (individual) effect Random Effect Model \n",
       "   (Swamy-Arora's transformation)\n",
       "\n",
       "Call:\n",
       "plm(formula = excess_deaths_per_100k ~ covid_deaths_per_100k, \n",
       "    data = df, model = \"random\", index = c(\"country\", \"year\"))\n",
       "\n",
       "Balanced Panel: n = 38, T = 3, N = 114\n",
       "\n",
       "Effects:\n",
       "                  var std.dev share\n",
       "idiosyncratic  933.27   30.55 0.439\n",
       "individual    1193.32   34.54 0.561\n",
       "theta: 0.5453\n",
       "\n",
       "Residuals:\n",
       "    Min.  1st Qu.   Median  3rd Qu.     Max. \n",
       "-66.1775 -22.8392  -5.2531  19.3836  88.6917 \n",
       "\n",
       "Coefficients:\n",
       "                       Estimate Std. Error z-value Pr(>|z|)    \n",
       "(Intercept)           12.173961   7.909483  1.5392   0.1238    \n",
       "covid_deaths_per_100k  1.202409   0.065362 18.3960   <2e-16 ***\n",
       "---\n",
       "Signif. codes:  0 '***' 0.001 '**' 0.01 '*' 0.05 '.' 0.1 ' ' 1\n",
       "\n",
       "Total Sum of Squares:    419550\n",
       "Residual Sum of Squares: 104320\n",
       "R-Squared:      0.75134\n",
       "Adj. R-Squared: 0.74912\n",
       "Chisq: 338.414 on 1 DF, p-value: < 2.22e-16"
      ]
     },
     "metadata": {},
     "output_type": "display_data"
    }
   ],
   "source": [
    "random <-plm(excess_deaths_per_100k ~ covid_deaths_per_100k, data=df, index=c(\"country\", \"year\"), model=\"random\") \n",
    "summary(random)"
   ]
  },
  {
   "cell_type": "markdown",
   "id": "470b2ffe",
   "metadata": {},
   "source": [
    "# FIXED OR RANDOM?"
   ]
  },
  {
   "cell_type": "markdown",
   "id": "8d23faf4",
   "metadata": {},
   "source": [
    "To decide between fixed or random effects you can run a Hausmantest where the null hypothesis is that the preferred model is random effects vs. the alternative the fixed effects (see Green, 2008, chapter 9).  It basically tests whether the unique errors (ui) are correlated with the regressors, the null hypothesis is they are not. Run a fixed effects model and save the estimates, then run a random model and save the estimates, then perform the test. If the p-value is significant (for example <0.05) then use fixed effects, if not use random effects."
   ]
  },
  {
   "cell_type": "code",
   "execution_count": 22,
   "id": "ac7664e2",
   "metadata": {},
   "outputs": [
    {
     "data": {
      "text/plain": [
       "\n",
       "\tHausman Test\n",
       "\n",
       "data:  excess_deaths_per_100k ~ covid_deaths_per_100k\n",
       "chisq = 0.7753, df = 1, p-value = 0.3786\n",
       "alternative hypothesis: one model is inconsistent\n"
      ]
     },
     "metadata": {},
     "output_type": "display_data"
    }
   ],
   "source": [
    " phtest(fixed, random)"
   ]
  },
  {
   "cell_type": "markdown",
   "id": "fadaccdb",
   "metadata": {},
   "source": [
    "If p-value is < 0.05 then use fixed effects"
   ]
  },
  {
   "cell_type": "markdown",
   "id": "f3b1ad8d",
   "metadata": {},
   "source": [
    "# Testing for time-fixed effects"
   ]
  },
  {
   "cell_type": "code",
   "execution_count": 23,
   "id": "d096290c",
   "metadata": {},
   "outputs": [
    {
     "data": {
      "text/plain": [
       "Oneway (individual) effect Within Model\n",
       "\n",
       "Call:\n",
       "plm(formula = excess_deaths_per_100k ~ covid_deaths_per_100k + \n",
       "    factor(year), data = df, model = \"within\", index = c(\"country\", \n",
       "    \"year\"))\n",
       "\n",
       "Balanced Panel: n = 38, T = 3, N = 114\n",
       "\n",
       "Residuals:\n",
       "    Min.  1st Qu.   Median  3rd Qu.     Max. \n",
       "-85.5589 -14.4170  -1.7242  12.1057  63.4166 \n",
       "\n",
       "Coefficients:\n",
       "                       Estimate Std. Error t-value  Pr(>|t|)    \n",
       "covid_deaths_per_100k  1.274446   0.073224 17.4048 < 2.2e-16 ***\n",
       "factor(year)2021      -4.260603   6.938368 -0.6141  0.541082    \n",
       "factor(year)2022      21.357162   6.455467  3.3084  0.001459 ** \n",
       "---\n",
       "Signif. codes:  0 '***' 0.001 '**' 0.01 '*' 0.05 '.' 0.1 ' ' 1\n",
       "\n",
       "Total Sum of Squares:    329380\n",
       "Residual Sum of Squares: 57387\n",
       "R-Squared:      0.82577\n",
       "Adj. R-Squared: 0.7303\n",
       "F-statistic: 115.33 on 3 and 73 DF, p-value: < 2.22e-16"
      ]
     },
     "metadata": {},
     "output_type": "display_data"
    }
   ],
   "source": [
    " library(plm) \n",
    "fixed <-plm(excess_deaths_per_100k ~ covid_deaths_per_100k, data=df, index=c(\"country\", \"year\"), model=\"within\") \n",
    "\n",
    "fixed.time<-plm(excess_deaths_per_100k ~ covid_deaths_per_100k + factor(year), data=df, index=c(\"country\", \"year\"), model=\"within\") \n",
    "\n",
    "summary(fixed.time) \n",
    "\n",
    "# Oneway(individual) effect Within Model"
   ]
  },
  {
   "cell_type": "markdown",
   "id": "bfd8ad17",
   "metadata": {},
   "source": [
    "# Testing time-fixed effects. The null is that no time-fixed effects needed"
   ]
  },
  {
   "cell_type": "code",
   "execution_count": 24,
   "id": "274bd7fa",
   "metadata": {},
   "outputs": [
    {
     "data": {
      "text/plain": [
       "\n",
       "\tF test for individual effects\n",
       "\n",
       "data:  excess_deaths_per_100k ~ covid_deaths_per_100k + factor(year)\n",
       "F = 8.019, df1 = 2, df2 = 73, p-value = 0.0007108\n",
       "alternative hypothesis: significant effects\n"
      ]
     },
     "metadata": {},
     "output_type": "display_data"
    }
   ],
   "source": [
    "pFtest(fixed.time, fixed)"
   ]
  },
  {
   "cell_type": "code",
   "execution_count": 25,
   "id": "2cb17274",
   "metadata": {},
   "outputs": [
    {
     "data": {
      "text/plain": [
       "\n",
       "\tLagrange Multiplier Test - time effects (Breusch-Pagan)\n",
       "\n",
       "data:  excess_deaths_per_100k ~ covid_deaths_per_100k\n",
       "chisq = 2.2001, df = 1, p-value = 0.138\n",
       "alternative hypothesis: significant effects\n"
      ]
     },
     "metadata": {},
     "output_type": "display_data"
    }
   ],
   "source": [
    " plmtest(fixed, c(\"time\"), type=(\"bp\"))"
   ]
  },
  {
   "cell_type": "markdown",
   "id": "2b1585cc",
   "metadata": {},
   "source": [
    "for both above,\n",
    "\n",
    "If p-value is < 0.05 then use time-fixed effects."
   ]
  },
  {
   "cell_type": "code",
   "execution_count": null,
   "id": "69916534",
   "metadata": {},
   "outputs": [],
   "source": []
  },
  {
   "cell_type": "code",
   "execution_count": null,
   "id": "46bb58ba",
   "metadata": {},
   "outputs": [],
   "source": []
  },
  {
   "cell_type": "markdown",
   "id": "36168528",
   "metadata": {},
   "source": [
    "# How to deal with Panel Data\n",
    " trying this code from another paper "
   ]
  },
  {
   "cell_type": "markdown",
   "id": "ce6e9f40",
   "metadata": {},
   "source": [
    "Panel data analysis is one of the very popular econometrics method. It helps us study the cross section and time series data at the same time."
   ]
  },
  {
   "cell_type": "code",
   "execution_count": 46,
   "id": "c1a8445f",
   "metadata": {},
   "outputs": [
    {
     "ename": "ERROR",
     "evalue": "Error in library(wooldidge): there is no package called 'wooldidge'\n",
     "output_type": "error",
     "traceback": [
      "Error in library(wooldidge): there is no package called 'wooldidge'\nTraceback:\n",
      "1. library(wooldidge)"
     ]
    }
   ],
   "source": [
    "# library(plm)\n",
    "# library(knitr)\n",
    "# library(broom)\n",
    "# library(tidyverse)\n"
   ]
  },
  {
   "cell_type": "code",
   "execution_count": 26,
   "id": "1f37015b",
   "metadata": {},
   "outputs": [],
   "source": [
    "# pdata = plm.data(df, index = c(\"country\",\"year\"))\n",
    "\n",
    "pdata = pdata.frame(df, index = c(\"country\", \"year\"))\n"
   ]
  },
  {
   "cell_type": "code",
   "execution_count": 27,
   "id": "81c0e1f6",
   "metadata": {},
   "outputs": [
    {
     "data": {
      "text/html": [
       "<table class=\"dataframe\">\n",
       "<caption>A pdata.frame: 6 × 20</caption>\n",
       "<thead>\n",
       "\t<tr><th></th><th scope=col>country</th><th scope=col>countrycode</th><th scope=col>year</th><th scope=col>total_deaths</th><th scope=col>covid_deaths</th><th scope=col>expected_deaths</th><th scope=col>excess_deaths</th><th scope=col>population</th><th scope=col>land_area</th><th scope=col>Ratio.of.Excess.death.to.COVID.19.deaths</th><th scope=col>non_covid_deaths</th><th scope=col>covid_deaths_per_100k</th><th scope=col>excess_deaths_per_100k</th><th scope=col>GDP_per_capita</th><th scope=col>Age_65_over_percentage</th><th scope=col>urban_pop_percentage</th><th scope=col>Pop_density</th><th scope=col>Access_to_quality_healthcare</th><th scope=col>year2021</th><th scope=col>year2022</th></tr>\n",
       "\t<tr><th></th><th scope=col>&lt;fct&gt;</th><th scope=col>&lt;chr&gt;</th><th scope=col>&lt;fct&gt;</th><th scope=col>&lt;dbl&gt;</th><th scope=col>&lt;int&gt;</th><th scope=col>&lt;dbl&gt;</th><th scope=col>&lt;dbl&gt;</th><th scope=col>&lt;int&gt;</th><th scope=col>&lt;chr&gt;</th><th scope=col>&lt;dbl&gt;</th><th scope=col>&lt;dbl&gt;</th><th scope=col>&lt;dbl&gt;</th><th scope=col>&lt;dbl&gt;</th><th scope=col>&lt;dbl&gt;</th><th scope=col>&lt;dbl&gt;</th><th scope=col>&lt;int&gt;</th><th scope=col>&lt;int&gt;</th><th scope=col>&lt;dbl&gt;</th><th scope=col>&lt;dbl&gt;</th><th scope=col>&lt;dbl&gt;</th></tr>\n",
       "</thead>\n",
       "<tbody>\n",
       "\t<tr><th scope=row>Australia-2020</th><td>Australia</td><td>AUS</td><td>2020</td><td>164778</td><td>  910</td><td>168241.20</td><td>-3463.205</td><td>25655289</td><td>7682300</td><td>-3.8</td><td>163868</td><td>  3.547027</td><td>-13.49899</td><td>51868.25</td><td>16.2</td><td>86</td><td>  3</td><td>72.6</td><td>0</td><td>0</td></tr>\n",
       "\t<tr><th scope=row>Australia-2021</th><td>Australia</td><td>AUS</td><td>2021</td><td>171718</td><td> 1359</td><td>166854.12</td><td> 4863.877</td><td>25688079</td><td>7682300</td><td> 3.6</td><td>170359</td><td>  5.290392</td><td> 18.93437</td><td>60697.25</td><td>16.6</td><td>86</td><td>  3</td><td>72.5</td><td>1</td><td>0</td></tr>\n",
       "\t<tr><th scope=row>Australia-2022</th><td>Australia</td><td>AUS</td><td>2022</td><td>190326</td><td>14438</td><td>168414.04</td><td>21911.965</td><td>25978935</td><td>7682300</td><td> 1.5</td><td>175888</td><td> 55.575796</td><td> 84.34512</td><td>65099.85</td><td>16.6</td><td>86</td><td>  3</td><td>72.5</td><td>0</td><td>1</td></tr>\n",
       "\t<tr><th scope=row>Austria-2020</th><td>Austria  </td><td>AUT</td><td>2020</td><td> 91196</td><td> 7706</td><td> 83134.64</td><td> 8061.356</td><td> 8916845</td><td>82409  </td><td> 1.0</td><td> 83490</td><td> 86.420701</td><td> 90.40592</td><td>48789.50</td><td>19.1</td><td>59</td><td>108</td><td>66.6</td><td>0</td><td>0</td></tr>\n",
       "\t<tr><th scope=row>Austria-2021</th><td>Austria  </td><td>AUT</td><td>2021</td><td> 89538</td><td> 9153</td><td> 81589.91</td><td> 7948.094</td><td> 8951520</td><td>82409  </td><td> 0.9</td><td> 80385</td><td>102.250791</td><td> 88.79044</td><td>53517.89</td><td>19.4</td><td>59</td><td>109</td><td>66.8</td><td>1</td><td>0</td></tr>\n",
       "\t<tr><th scope=row>Austria-2022</th><td>Austria  </td><td>AUT</td><td>2022</td><td> 91582</td><td> 4689</td><td> 81758.12</td><td> 9823.883</td><td> 9052856</td><td>82409  </td><td> 2.1</td><td> 86893</td><td> 51.795809</td><td>108.51695</td><td>52084.68</td><td>19.4</td><td>59</td><td>110</td><td>66.8</td><td>0</td><td>1</td></tr>\n",
       "</tbody>\n",
       "</table>\n"
      ],
      "text/latex": [
       "A pdata.frame: 6 × 20\n",
       "\\begin{tabular}{r|llllllllllllllllllll}\n",
       "  & country & countrycode & year & total\\_deaths & covid\\_deaths & expected\\_deaths & excess\\_deaths & population & land\\_area & Ratio.of.Excess.death.to.COVID.19.deaths & non\\_covid\\_deaths & covid\\_deaths\\_per\\_100k & excess\\_deaths\\_per\\_100k & GDP\\_per\\_capita & Age\\_65\\_over\\_percentage & urban\\_pop\\_percentage & Pop\\_density & Access\\_to\\_quality\\_healthcare & year2021 & year2022\\\\\n",
       "  & <fct> & <chr> & <fct> & <dbl> & <int> & <dbl> & <dbl> & <int> & <chr> & <dbl> & <dbl> & <dbl> & <dbl> & <dbl> & <dbl> & <int> & <int> & <dbl> & <dbl> & <dbl>\\\\\n",
       "\\hline\n",
       "\tAustralia-2020 & Australia & AUS & 2020 & 164778 &   910 & 168241.20 & -3463.205 & 25655289 & 7682300 & -3.8 & 163868 &   3.547027 & -13.49899 & 51868.25 & 16.2 & 86 &   3 & 72.6 & 0 & 0\\\\\n",
       "\tAustralia-2021 & Australia & AUS & 2021 & 171718 &  1359 & 166854.12 &  4863.877 & 25688079 & 7682300 &  3.6 & 170359 &   5.290392 &  18.93437 & 60697.25 & 16.6 & 86 &   3 & 72.5 & 1 & 0\\\\\n",
       "\tAustralia-2022 & Australia & AUS & 2022 & 190326 & 14438 & 168414.04 & 21911.965 & 25978935 & 7682300 &  1.5 & 175888 &  55.575796 &  84.34512 & 65099.85 & 16.6 & 86 &   3 & 72.5 & 0 & 1\\\\\n",
       "\tAustria-2020 & Austria   & AUT & 2020 &  91196 &  7706 &  83134.64 &  8061.356 &  8916845 & 82409   &  1.0 &  83490 &  86.420701 &  90.40592 & 48789.50 & 19.1 & 59 & 108 & 66.6 & 0 & 0\\\\\n",
       "\tAustria-2021 & Austria   & AUT & 2021 &  89538 &  9153 &  81589.91 &  7948.094 &  8951520 & 82409   &  0.9 &  80385 & 102.250791 &  88.79044 & 53517.89 & 19.4 & 59 & 109 & 66.8 & 1 & 0\\\\\n",
       "\tAustria-2022 & Austria   & AUT & 2022 &  91582 &  4689 &  81758.12 &  9823.883 &  9052856 & 82409   &  2.1 &  86893 &  51.795809 & 108.51695 & 52084.68 & 19.4 & 59 & 110 & 66.8 & 0 & 1\\\\\n",
       "\\end{tabular}\n"
      ],
      "text/markdown": [
       "\n",
       "A pdata.frame: 6 × 20\n",
       "\n",
       "| <!--/--> | country &lt;fct&gt; | countrycode &lt;chr&gt; | year &lt;fct&gt; | total_deaths &lt;dbl&gt; | covid_deaths &lt;int&gt; | expected_deaths &lt;dbl&gt; | excess_deaths &lt;dbl&gt; | population &lt;int&gt; | land_area &lt;chr&gt; | Ratio.of.Excess.death.to.COVID.19.deaths &lt;dbl&gt; | non_covid_deaths &lt;dbl&gt; | covid_deaths_per_100k &lt;dbl&gt; | excess_deaths_per_100k &lt;dbl&gt; | GDP_per_capita &lt;dbl&gt; | Age_65_over_percentage &lt;dbl&gt; | urban_pop_percentage &lt;int&gt; | Pop_density &lt;int&gt; | Access_to_quality_healthcare &lt;dbl&gt; | year2021 &lt;dbl&gt; | year2022 &lt;dbl&gt; |\n",
       "|---|---|---|---|---|---|---|---|---|---|---|---|---|---|---|---|---|---|---|---|---|\n",
       "| Australia-2020 | Australia | AUS | 2020 | 164778 |   910 | 168241.20 | -3463.205 | 25655289 | 7682300 | -3.8 | 163868 |   3.547027 | -13.49899 | 51868.25 | 16.2 | 86 |   3 | 72.6 | 0 | 0 |\n",
       "| Australia-2021 | Australia | AUS | 2021 | 171718 |  1359 | 166854.12 |  4863.877 | 25688079 | 7682300 |  3.6 | 170359 |   5.290392 |  18.93437 | 60697.25 | 16.6 | 86 |   3 | 72.5 | 1 | 0 |\n",
       "| Australia-2022 | Australia | AUS | 2022 | 190326 | 14438 | 168414.04 | 21911.965 | 25978935 | 7682300 |  1.5 | 175888 |  55.575796 |  84.34512 | 65099.85 | 16.6 | 86 |   3 | 72.5 | 0 | 1 |\n",
       "| Austria-2020 | Austria   | AUT | 2020 |  91196 |  7706 |  83134.64 |  8061.356 |  8916845 | 82409   |  1.0 |  83490 |  86.420701 |  90.40592 | 48789.50 | 19.1 | 59 | 108 | 66.6 | 0 | 0 |\n",
       "| Austria-2021 | Austria   | AUT | 2021 |  89538 |  9153 |  81589.91 |  7948.094 |  8951520 | 82409   |  0.9 |  80385 | 102.250791 |  88.79044 | 53517.89 | 19.4 | 59 | 109 | 66.8 | 1 | 0 |\n",
       "| Austria-2022 | Austria   | AUT | 2022 |  91582 |  4689 |  81758.12 |  9823.883 |  9052856 | 82409   |  2.1 |  86893 |  51.795809 | 108.51695 | 52084.68 | 19.4 | 59 | 110 | 66.8 | 0 | 1 |\n",
       "\n"
      ],
      "text/plain": [
       "               country   countrycode year total_deaths covid_deaths\n",
       "Australia-2020 Australia AUS         2020 164778         910       \n",
       "Australia-2021 Australia AUS         2021 171718        1359       \n",
       "Australia-2022 Australia AUS         2022 190326       14438       \n",
       "Austria-2020   Austria   AUT         2020  91196        7706       \n",
       "Austria-2021   Austria   AUT         2021  89538        9153       \n",
       "Austria-2022   Austria   AUT         2022  91582        4689       \n",
       "               expected_deaths excess_deaths population land_area\n",
       "Australia-2020 168241.20       -3463.205     25655289   7682300  \n",
       "Australia-2021 166854.12        4863.877     25688079   7682300  \n",
       "Australia-2022 168414.04       21911.965     25978935   7682300  \n",
       "Austria-2020    83134.64        8061.356      8916845   82409    \n",
       "Austria-2021    81589.91        7948.094      8951520   82409    \n",
       "Austria-2022    81758.12        9823.883      9052856   82409    \n",
       "               Ratio.of.Excess.death.to.COVID.19.deaths non_covid_deaths\n",
       "Australia-2020 -3.8                                     163868          \n",
       "Australia-2021  3.6                                     170359          \n",
       "Australia-2022  1.5                                     175888          \n",
       "Austria-2020    1.0                                      83490          \n",
       "Austria-2021    0.9                                      80385          \n",
       "Austria-2022    2.1                                      86893          \n",
       "               covid_deaths_per_100k excess_deaths_per_100k GDP_per_capita\n",
       "Australia-2020   3.547027            -13.49899              51868.25      \n",
       "Australia-2021   5.290392             18.93437              60697.25      \n",
       "Australia-2022  55.575796             84.34512              65099.85      \n",
       "Austria-2020    86.420701             90.40592              48789.50      \n",
       "Austria-2021   102.250791             88.79044              53517.89      \n",
       "Austria-2022    51.795809            108.51695              52084.68      \n",
       "               Age_65_over_percentage urban_pop_percentage Pop_density\n",
       "Australia-2020 16.2                   86                     3        \n",
       "Australia-2021 16.6                   86                     3        \n",
       "Australia-2022 16.6                   86                     3        \n",
       "Austria-2020   19.1                   59                   108        \n",
       "Austria-2021   19.4                   59                   109        \n",
       "Austria-2022   19.4                   59                   110        \n",
       "               Access_to_quality_healthcare year2021 year2022\n",
       "Australia-2020 72.6                         0        0       \n",
       "Australia-2021 72.5                         1        0       \n",
       "Australia-2022 72.5                         0        1       \n",
       "Austria-2020   66.6                         0        0       \n",
       "Austria-2021   66.8                         1        0       \n",
       "Austria-2022   66.8                         0        1       "
      ]
     },
     "metadata": {},
     "output_type": "display_data"
    }
   ],
   "source": [
    "head(pdata)"
   ]
  },
  {
   "cell_type": "markdown",
   "id": "9d0a7223",
   "metadata": {},
   "source": [
    "# MODELLING\n",
    "the OLS\n",
    "\n",
    "the Fixed Effect \n",
    "\n",
    "the Random Effects Model. "
   ]
  },
  {
   "cell_type": "code",
   "execution_count": 28,
   "id": "2a283444",
   "metadata": {},
   "outputs": [
    {
     "data": {
      "text/plain": [
       "\n",
       "Call:\n",
       "lm(formula = excess_deaths_per_100k ~ covid_deaths_per_100k + \n",
       "    GDP_per_capita + Age_65_over_percentage + urban_pop_percentage + \n",
       "    Pop_density + Access_to_quality_healthcare, data = pdata)\n",
       "\n",
       "Residuals:\n",
       "    Min      1Q  Median      3Q     Max \n",
       "-97.627 -29.299  -4.423  22.998 150.002 \n",
       "\n",
       "Coefficients:\n",
       "                               Estimate Std. Error t value Pr(>|t|)    \n",
       "(Intercept)                   2.563e+02  7.092e+01   3.615  0.00046 ***\n",
       "covid_deaths_per_100k         1.088e+00  8.508e-02  12.788  < 2e-16 ***\n",
       "GDP_per_capita               -3.007e-04  1.704e-04  -1.765  0.08045 .  \n",
       "Age_65_over_percentage       -2.314e+00  1.271e+00  -1.820  0.07157 .  \n",
       "urban_pop_percentage         -4.320e-01  4.079e-01  -1.059  0.29200    \n",
       "Pop_density                   1.304e-02  3.205e-02   0.407  0.68506    \n",
       "Access_to_quality_healthcare -2.222e+00  8.583e-01  -2.588  0.01098 *  \n",
       "---\n",
       "Signif. codes:  0 '***' 0.001 '**' 0.01 '*' 0.05 '.' 0.1 ' ' 1\n",
       "\n",
       "Residual standard error: 42.71 on 107 degrees of freedom\n",
       "Multiple R-squared:  0.745,\tAdjusted R-squared:  0.7307 \n",
       "F-statistic: 52.11 on 6 and 107 DF,  p-value: < 2.2e-16\n"
      ]
     },
     "metadata": {},
     "output_type": "display_data"
    }
   ],
   "source": [
    "Ols <- lm(excess_deaths_per_100k ~ covid_deaths_per_100k + GDP_per_capita + Age_65_over_percentage + urban_pop_percentage + Pop_density+Access_to_quality_healthcare, data = pdata)\n",
    "summary(Ols)\n"
   ]
  },
  {
   "cell_type": "markdown",
   "id": "7e50f99b",
   "metadata": {},
   "source": [
    "Since the OLS ignores panel structure"
   ]
  },
  {
   "cell_type": "markdown",
   "id": "83518761",
   "metadata": {},
   "source": [
    "## OLS MODEL using plm package\n",
    "‘plm’ package is especially used for panel data analysis. Let’s index the data for this model. The results below shows that both models produce same results.\n",
    "\n"
   ]
  },
  {
   "cell_type": "code",
   "execution_count": 29,
   "id": "c3dcdef6",
   "metadata": {},
   "outputs": [
    {
     "data": {
      "text/plain": [
       "Pooling Model\n",
       "\n",
       "Call:\n",
       "plm(formula = excess_deaths_per_100k ~ covid_deaths_per_100k + \n",
       "    GDP_per_capita + Age_65_over_percentage + urban_pop_percentage + \n",
       "    Pop_density + Access_to_quality_healthcare, data = pdata, \n",
       "    model = \"pooling\", index = c(\"country\", \"year\"))\n",
       "\n",
       "Balanced Panel: n = 38, T = 3, N = 114\n",
       "\n",
       "Residuals:\n",
       "    Min.  1st Qu.   Median  3rd Qu.     Max. \n",
       "-97.6270 -29.2991  -4.4232  22.9979 150.0018 \n",
       "\n",
       "Coefficients:\n",
       "                                Estimate  Std. Error t-value  Pr(>|t|)    \n",
       "(Intercept)                   2.5634e+02  7.0918e+01  3.6146 0.0004603 ***\n",
       "covid_deaths_per_100k         1.0880e+00  8.5080e-02 12.7879 < 2.2e-16 ***\n",
       "GDP_per_capita               -3.0068e-04  1.7037e-04 -1.7648 0.0804459 .  \n",
       "Age_65_over_percentage       -2.3135e+00  1.2712e+00 -1.8199 0.0715687 .  \n",
       "urban_pop_percentage         -4.3199e-01  4.0794e-01 -1.0590 0.2920016    \n",
       "Pop_density                   1.3035e-02  3.2053e-02  0.4067 0.6850577    \n",
       "Access_to_quality_healthcare -2.2218e+00  8.5835e-01 -2.5885 0.0109796 *  \n",
       "---\n",
       "Signif. codes:  0 '***' 0.001 '**' 0.01 '*' 0.05 '.' 0.1 ' ' 1\n",
       "\n",
       "Total Sum of Squares:    765430\n",
       "Residual Sum of Squares: 195170\n",
       "R-Squared:      0.74502\n",
       "Adj. R-Squared: 0.73072\n",
       "F-statistic: 52.1058 on 6 and 107 DF, p-value: < 2.22e-16"
      ]
     },
     "metadata": {},
     "output_type": "display_data"
    }
   ],
   "source": [
    "pooled <- plm(excess_deaths_per_100k ~ covid_deaths_per_100k + \n",
    "    GDP_per_capita +Age_65_over_percentage + urban_pop_percentage + Pop_density+Access_to_quality_healthcare, \n",
    "    data = pdata, model = 'pooling', index = c(\"country\",\"year\"))\n",
    "summary(pooled )"
   ]
  },
  {
   "cell_type": "markdown",
   "id": "40f1fedf",
   "metadata": {},
   "source": [
    "Let’s tidy up the results using stargazer package."
   ]
  },
  {
   "cell_type": "code",
   "execution_count": 52,
   "id": "3ebaa0c0",
   "metadata": {},
   "outputs": [
    {
     "name": "stderr",
     "output_type": "stream",
     "text": [
      "Installing package into 'C:/Users/nicen/AppData/Local/R/win-library/4.3'\n",
      "(as 'lib' is unspecified)\n",
      "\n"
     ]
    },
    {
     "name": "stdout",
     "output_type": "stream",
     "text": [
      "package 'stargazer' successfully unpacked and MD5 sums checked\n",
      "\n",
      "The downloaded binary packages are in\n",
      "\tC:\\Users\\nicen\\AppData\\Local\\Temp\\Rtmp2J9XWL\\downloaded_packages\n"
     ]
    }
   ],
   "source": [
    "install.packages(\"stargazer\")"
   ]
  },
  {
   "cell_type": "code",
   "execution_count": 30,
   "id": "710de028",
   "metadata": {},
   "outputs": [
    {
     "name": "stderr",
     "output_type": "stream",
     "text": [
      "\n",
      "Please cite as: \n",
      "\n",
      "\n",
      " Hlavac, Marek (2022). stargazer: Well-Formatted Regression and Summary Statistics Tables.\n",
      "\n",
      " R package version 5.2.3. https://CRAN.R-project.org/package=stargazer \n",
      "\n",
      "\n"
     ]
    },
    {
     "name": "stdout",
     "output_type": "stream",
     "text": [
      "\n",
      "========================================================\n",
      "                                 Dependent variable:    \n",
      "                             ---------------------------\n",
      "                               excess_deaths_per_100k   \n",
      "--------------------------------------------------------\n",
      "covid_deaths_per_100k                 1.088***          \n",
      "                                       (0.085)          \n",
      "                                                        \n",
      "GDP_per_capita                        -0.0003*          \n",
      "                                      (0.0002)          \n",
      "                                                        \n",
      "Age_65_over_percentage                 -2.314*          \n",
      "                                       (1.271)          \n",
      "                                                        \n",
      "urban_pop_percentage                   -0.432           \n",
      "                                       (0.408)          \n",
      "                                                        \n",
      "Pop_density                             0.013           \n",
      "                                       (0.032)          \n",
      "                                                        \n",
      "Access_to_quality_healthcare          -2.222**          \n",
      "                                       (0.858)          \n",
      "                                                        \n",
      "Constant                             256.340***         \n",
      "                                      (70.918)          \n",
      "                                                        \n",
      "--------------------------------------------------------\n",
      "Observations                             114            \n",
      "R2                                      0.745           \n",
      "Adjusted R2                             0.731           \n",
      "F Statistic                    52.106*** (df = 6; 107)  \n",
      "========================================================\n",
      "Note:                        *p<0.1; **p<0.05; ***p<0.01\n"
     ]
    }
   ],
   "source": [
    "library(stargazer)\n",
    "stargazer(pooled, type = 'text')"
   ]
  },
  {
   "cell_type": "markdown",
   "id": "eca41c56",
   "metadata": {},
   "source": [
    "# Checking the basic assumption of homoscedasticity for OLS Model"
   ]
  },
  {
   "cell_type": "markdown",
   "id": "3fb4a362",
   "metadata": {},
   "source": [
    "Heteroscedasticity assumes variability in the observations of the dependent variable. It is just the opposite of homoscedasticity. First, we will fetch the residuals and fitted values from our OLS model. Let’s take COvid deaths per 100k against the residuals to have a look at the relationship of the model."
   ]
  },
  {
   "cell_type": "code",
   "execution_count": 31,
   "id": "425eb6fb",
   "metadata": {},
   "outputs": [],
   "source": [
    "res <- residuals(Ols)\n",
    "yhat<- fitted(Ols)\n",
    "#plot(pdata$covid_deaths_per_100k, res, xlab = \" covid deaths per 100k\", ylab = \"Residuals\")"
   ]
  },
  {
   "cell_type": "code",
   "execution_count": 32,
   "id": "da752aa6",
   "metadata": {},
   "outputs": [
    {
     "data": {
      "image/png": "[encoded data removed]",
      "text/plain": [
       "plot without title"
      ]
     },
     "metadata": {
      "image/png": {
       "height": 420,
       "width": 420
      }
     },
     "output_type": "display_data"
    }
   ],
   "source": [
    "plot(x = pdata$covid_deaths_per_100k,y = res, xlab = \"covid deaths per 100k\", ylab = \"Residuals\")\n"
   ]
  },
  {
   "cell_type": "code",
   "execution_count": 33,
   "id": "ea4f364e",
   "metadata": {},
   "outputs": [
    {
     "data": {
      "image/png": "[encoded data removed]",
      "text/plain": [
       "plot without title"
      ]
     },
     "metadata": {
      "image/png": {
       "height": 420,
       "width": 420
      }
     },
     "output_type": "display_data"
    }
   ],
   "source": [
    "plot(yhat, res, xlab = \"Fitted values\",  ylab = \"Residuals\")"
   ]
  },
  {
   "cell_type": "markdown",
   "id": "1ef51099",
   "metadata": {},
   "source": [
    "We can see the spread of the data points which ensures the heteroscedastic nature as clustered patterns are visible. It just translates to the variability of the dependent variable which is the covid deaths per 100k for our dataset. Therefore, we can conclude that OLS is not really the best model to analyze our dataset."
   ]
  },
  {
   "cell_type": "markdown",
   "id": "51e6cc1f",
   "metadata": {},
   "source": [
    "# The Fixed Effect Model"
   ]
  },
  {
   "cell_type": "markdown",
   "id": "2d3ac30e",
   "metadata": {},
   "source": [
    "The Fixed Effect model assumes variations within a cross-section which could be due to the inherent characteristics of that entity, which is country for our case. Here, we control for the time invariant characteristics and study the net effect of the predictors in the outcome or excess deaths variable for our dataset. The difference between the fixed effects and the OLS model is changing this model parameter from pooling to within."
   ]
  },
  {
   "cell_type": "code",
   "execution_count": 34,
   "id": "0ef04c77",
   "metadata": {},
   "outputs": [
    {
     "data": {
      "text/plain": [
       "Oneway (individual) effect Within Model\n",
       "\n",
       "Call:\n",
       "plm(formula = excess_deaths_per_100k ~ covid_deaths_per_100k + \n",
       "    GDP_per_capita + Age_65_over_percentage + urban_pop_percentage + \n",
       "    Pop_density + Access_to_quality_healthcare, data = pdata, \n",
       "    model = \"within\")\n",
       "\n",
       "Balanced Panel: n = 38, T = 3, N = 114\n",
       "\n",
       "Residuals:\n",
       "     Min.   1st Qu.    Median   3rd Qu.      Max. \n",
       "-77.83823 -14.42815  -0.73299  14.82122  60.00774 \n",
       "\n",
       "Coefficients:\n",
       "                                Estimate  Std. Error t-value Pr(>|t|)    \n",
       "covid_deaths_per_100k         1.18110987  0.07347415 16.0752  < 2e-16 ***\n",
       "GDP_per_capita               -0.00037278  0.00090854 -0.4103  0.68282    \n",
       "Age_65_over_percentage       42.28084531 24.37579006  1.7345  0.08716 .  \n",
       "Pop_density                   4.11344336  2.21676030  1.8556  0.06766 .  \n",
       "Access_to_quality_healthcare 13.21768685 14.17425890  0.9325  0.35423    \n",
       "---\n",
       "Signif. codes:  0 '***' 0.001 '**' 0.01 '*' 0.05 '.' 0.1 ' ' 1\n",
       "\n",
       "Total Sum of Squares:    329380\n",
       "Residual Sum of Squares: 62316\n",
       "R-Squared:      0.81081\n",
       "Adj. R-Squared: 0.69889\n",
       "F-statistic: 60.8555 on 5 and 71 DF, p-value: < 2.22e-16"
      ]
     },
     "metadata": {},
     "output_type": "display_data"
    }
   ],
   "source": [
    "fe <- plm(excess_deaths_per_100k ~ covid_deaths_per_100k + \n",
    "    GDP_per_capita + Age_65_over_percentage + urban_pop_percentage + Pop_density+Access_to_quality_healthcare, \n",
    "    data = pdata, model = 'within')\n",
    "           \n",
    "summary(fe)"
   ]
  },
  {
   "cell_type": "markdown",
   "id": "4a2e7163",
   "metadata": {},
   "source": [
    "the GDP_per_capita remains insignificant for this relation, as it was significant in the OLS model"
   ]
  },
  {
   "cell_type": "markdown",
   "id": "174b68cf",
   "metadata": {},
   "source": [
    "## Test to see if Fixed Effect Model is better than OLS"
   ]
  },
  {
   "cell_type": "code",
   "execution_count": 35,
   "id": "6ca9cf5a",
   "metadata": {},
   "outputs": [
    {
     "data": {
      "text/plain": [
       "\n",
       "\tF test for individual effects\n",
       "\n",
       "data:  excess_deaths_per_100k ~ covid_deaths_per_100k + GDP_per_capita +  ...\n",
       "F = 4.2047, df1 = 36, df2 = 71, p-value = 1.228e-07\n",
       "alternative hypothesis: significant effects\n"
      ]
     },
     "metadata": {},
     "output_type": "display_data"
    }
   ],
   "source": [
    "pFtest(fe, Ols)"
   ]
  },
  {
   "cell_type": "markdown",
   "id": "e5fe5b52",
   "metadata": {},
   "source": [
    "We can see the p-value is much smaller than 5% level. Therefore, we can reject the null hypothesis and proceed with fixed effects model. Now, let’s look into the random effects model and check whether that fits our data better."
   ]
  },
  {
   "cell_type": "markdown",
   "id": "4e66fdca",
   "metadata": {},
   "source": [
    "# Random Effects Model\n",
    "The random effects model includes the possibility of between entity variations. It also assumes that this variation is random in nature or they are uncorrelated with variables under study."
   ]
  },
  {
   "cell_type": "code",
   "execution_count": 37,
   "id": "12b22a53",
   "metadata": {},
   "outputs": [
    {
     "data": {
      "text/plain": [
       "Oneway (individual) effect Random Effect Model \n",
       "   (Swamy-Arora's transformation)\n",
       "\n",
       "Call:\n",
       "plm(formula = excess_deaths_per_100k ~ covid_deaths_per_100k + \n",
       "    GDP_per_capita + Age_65_over_percentage + urban_pop_percentage + \n",
       "    Pop_density + Access_to_quality_healthcare, data = pdata, \n",
       "    model = \"random\")\n",
       "\n",
       "Balanced Panel: n = 38, T = 3, N = 114\n",
       "\n",
       "Effects:\n",
       "                 var std.dev share\n",
       "idiosyncratic 877.69   29.63 0.477\n",
       "individual    962.16   31.02 0.523\n",
       "theta: 0.5171\n",
       "\n",
       "Residuals:\n",
       "   Min. 1st Qu.  Median 3rd Qu.    Max. \n",
       "-73.807 -21.572  -3.006  16.595  83.826 \n",
       "\n",
       "Coefficients:\n",
       "                                Estimate  Std. Error z-value Pr(>|z|)    \n",
       "(Intercept)                   2.3955e+02  9.7596e+01  2.4545  0.01411 *  \n",
       "covid_deaths_per_100k         1.1557e+00  6.8208e-02 16.9439  < 2e-16 ***\n",
       "GDP_per_capita               -1.8160e-04  2.4128e-04 -0.7526  0.45167    \n",
       "Age_65_over_percentage       -2.2819e+00  1.8836e+00 -1.2115  0.22571    \n",
       "urban_pop_percentage         -4.1406e-01  6.0029e-01 -0.6898  0.49034    \n",
       "Pop_density                   1.3135e-02  4.7568e-02  0.2761  0.78244    \n",
       "Access_to_quality_healthcare -2.1516e+00  1.2170e+00 -1.7679  0.07708 .  \n",
       "---\n",
       "Signif. codes:  0 '***' 0.001 '**' 0.01 '*' 0.05 '.' 0.1 ' ' 1\n",
       "\n",
       "Total Sum of Squares:    431050\n",
       "Residual Sum of Squares: 100590\n",
       "R-Squared:      0.76664\n",
       "Adj. R-Squared: 0.75356\n",
       "Chisq: 351.521 on 6 DF, p-value: < 2.22e-16"
      ]
     },
     "metadata": {},
     "output_type": "display_data"
    }
   ],
   "source": [
    "re <- plm (excess_deaths_per_100k ~ covid_deaths_per_100k + \n",
    "    GDP_per_capita + Age_65_over_percentage + urban_pop_percentage + Pop_density+Access_to_quality_healthcare, \n",
    "    data = pdata, model = \"random\")\n",
    "summary(re)"
   ]
  },
  {
   "cell_type": "markdown",
   "id": "afde627c",
   "metadata": {},
   "source": [
    "We can see that the intercept is not significant. But since the overall model is significant, we can proceed to the diagnostic tests to determine if random effects model fares over the other models. We have already concluded that fixed effects model is better than the OLS model. So now we will compare between fixed effects and random effects model. We will use a very popular diagnostic test for this purpose called Hausman Test. The null hypothesis of this test states that random effects is preferred over fixed effects.\n",
    "\n"
   ]
  },
  {
   "cell_type": "code",
   "execution_count": 37,
   "id": "1b220e64",
   "metadata": {},
   "outputs": [
    {
     "data": {
      "text/plain": [
       "\n",
       "\tHausman Test\n",
       "\n",
       "data:  excess_deaths_per_100k ~ covid_deaths_per_100k + GDP_per_capita +  ...\n",
       "chisq = 29.174, df = 5, p-value = 2.144e-05\n",
       "alternative hypothesis: one model is inconsistent\n"
      ]
     },
     "metadata": {},
     "output_type": "display_data"
    }
   ],
   "source": [
    "phtest(fe, re)"
   ]
  },
  {
   "cell_type": "markdown",
   "id": "927e1148",
   "metadata": {},
   "source": [
    "The p-value here is less than 0.05 Therefore, we can reject the null hypothesis and conclude that the fixed effects model is more suited to our data ."
   ]
  },
  {
   "cell_type": "markdown",
   "id": "c9ecf415",
   "metadata": {},
   "source": [
    "# Analyzing the best model\n",
    "Now we know that fixed effect model is the best for the data, lets analyze the relationship between independent and dependent variables from that model.\n",
    "\n"
   ]
  },
  {
   "cell_type": "code",
   "execution_count": 38,
   "id": "555e1852",
   "metadata": {},
   "outputs": [
    {
     "data": {
      "text/plain": [
       "Oneway (individual) effect Within Model\n",
       "\n",
       "Call:\n",
       "plm(formula = excess_deaths_per_100k ~ covid_deaths_per_100k + \n",
       "    GDP_per_capita + Age_65_over_percentage + urban_pop_percentage + \n",
       "    Pop_density + Access_to_quality_healthcare, data = pdata, \n",
       "    model = \"within\")\n",
       "\n",
       "Balanced Panel: n = 38, T = 3, N = 114\n",
       "\n",
       "Residuals:\n",
       "     Min.   1st Qu.    Median   3rd Qu.      Max. \n",
       "-77.83823 -14.42815  -0.73299  14.82122  60.00774 \n",
       "\n",
       "Coefficients:\n",
       "                                Estimate  Std. Error t-value Pr(>|t|)    \n",
       "covid_deaths_per_100k         1.18110987  0.07347415 16.0752  < 2e-16 ***\n",
       "GDP_per_capita               -0.00037278  0.00090854 -0.4103  0.68282    \n",
       "Age_65_over_percentage       42.28084531 24.37579006  1.7345  0.08716 .  \n",
       "Pop_density                   4.11344336  2.21676030  1.8556  0.06766 .  \n",
       "Access_to_quality_healthcare 13.21768685 14.17425890  0.9325  0.35423    \n",
       "---\n",
       "Signif. codes:  0 '***' 0.001 '**' 0.01 '*' 0.05 '.' 0.1 ' ' 1\n",
       "\n",
       "Total Sum of Squares:    329380\n",
       "Residual Sum of Squares: 62316\n",
       "R-Squared:      0.81081\n",
       "Adj. R-Squared: 0.69889\n",
       "F-statistic: 60.8555 on 5 and 71 DF, p-value: < 2.22e-16"
      ]
     },
     "metadata": {},
     "output_type": "display_data"
    }
   ],
   "source": [
    "summary(fe)"
   ]
  },
  {
   "cell_type": "markdown",
   "id": "bb22395a",
   "metadata": {},
   "source": [
    "Variables:\n",
    "\n",
    "Dependent variable: Excess deaths per 100k\n",
    "\n",
    "Independent variables:\n",
    "\n",
    "COVID deaths per 100k\n",
    "\n",
    "GDP per capita\n",
    "\n",
    "Percentage of the population aged 65 or older\n",
    "\n",
    "Percentage of the population living in urban areas\n",
    "\n",
    "Population density\n",
    "\n",
    "Key Findings:\n",
    "\n",
    "COVID deaths per 100k: Highly significant positive association with excess deaths (coefficient = 1.186034, p < 2e-16). A unit increase in COVID deaths per 100k is associated with an estimated 1.19 increase in excess deaths per 100k, within each country.\n",
    "Other variables: Not significant within the model, suggesting their effects on excess deaths might be explained by time-invariant country-specific factors.\n",
    "Model Fit:\n",
    "\n",
    "R-squared (0.80846): Explains 80.85% of the variability in excess deaths within countries.\n",
    "Adjusted R-squared (0.69901): Accounts for the number of predictors, indicating a good fit.\n",
    "F-statistic (73.8651, p < 2.22e-16): Highly significant, suggesting the model overall has predictive power.\n",
    "Interpretation:\n",
    "\n",
    "After accounting for unobserved country-specific factors, COVID deaths per 100k remains a strong predictor of excess deaths within countries.\n",
    "Other variables in the model don't show significant within-country effects, but their overall effects might be captured by the country fixed effects."
   ]
  },
  {
   "cell_type": "markdown",
   "id": "9f6a681e",
   "metadata": {},
   "source": [
    "# Check to see if Panel Effects exist in data"
   ]
  },
  {
   "cell_type": "code",
   "execution_count": 39,
   "id": "048000ef",
   "metadata": {},
   "outputs": [
    {
     "data": {
      "text/plain": [
       "\n",
       "\tLagrange Multiplier Test - (Breusch-Pagan)\n",
       "\n",
       "data:  excess_deaths_per_100k ~ covid_deaths_per_100k + GDP_per_capita +  ...\n",
       "chisq = 21.714, df = 1, p-value = 3.165e-06\n",
       "alternative hypothesis: significant effects\n"
      ]
     },
     "metadata": {},
     "output_type": "display_data"
    }
   ],
   "source": [
    "plmtest(pooled, type=c(\"bp\"))"
   ]
  },
  {
   "cell_type": "code",
   "execution_count": null,
   "id": "d7e68ce0",
   "metadata": {},
   "outputs": [],
   "source": [
    "\n",
    "\n",
    "\n",
    "\n"
   ]
  },
  {
   "cell_type": "code",
   "execution_count": null,
   "id": "3bba90e1",
   "metadata": {},
   "outputs": [],
   "source": []
  },
  {
   "cell_type": "markdown",
   "id": "6efb3e1a",
   "metadata": {},
   "source": [
    "# Lasso method try\n",
    "\n",
    "LASSO is a type of linear regression that includes regularization—the process of adding information to prevent overfitting, typically by adding a penalty to the loss function."
   ]
  },
  {
   "cell_type": "code",
   "execution_count": 41,
   "id": "43731ba8",
   "metadata": {},
   "outputs": [
    {
     "name": "stderr",
     "output_type": "stream",
     "text": [
      "── \u001b[1mAttaching core tidyverse packages\u001b[22m ──────────────────────────────────────────────────────────────── tidyverse 2.0.0 ──\n",
      "\u001b[32m✔\u001b[39m \u001b[34mdplyr    \u001b[39m 1.1.2     \u001b[32m✔\u001b[39m \u001b[34mreadr    \u001b[39m 2.1.4\n",
      "\u001b[32m✔\u001b[39m \u001b[34mforcats  \u001b[39m 1.0.0     \u001b[32m✔\u001b[39m \u001b[34mstringr  \u001b[39m 1.5.0\n",
      "\u001b[32m✔\u001b[39m \u001b[34mggplot2  \u001b[39m 3.4.2     \u001b[32m✔\u001b[39m \u001b[34mtibble   \u001b[39m 3.2.1\n",
      "\u001b[32m✔\u001b[39m \u001b[34mlubridate\u001b[39m 1.9.2     \u001b[32m✔\u001b[39m \u001b[34mtidyr    \u001b[39m 1.3.0\n",
      "\u001b[32m✔\u001b[39m \u001b[34mpurrr    \u001b[39m 1.0.1     \n",
      "── \u001b[1mConflicts\u001b[22m ────────────────────────────────────────────────────────────────────────────────── tidyverse_conflicts() ──\n",
      "\u001b[31m✖\u001b[39m \u001b[34mdplyr\u001b[39m::\u001b[32mbetween()\u001b[39m masks \u001b[34mplm\u001b[39m::between()\n",
      "\u001b[31m✖\u001b[39m \u001b[34mtidyr\u001b[39m::\u001b[32mexpand()\u001b[39m  masks \u001b[34mMatrix\u001b[39m::expand()\n",
      "\u001b[31m✖\u001b[39m \u001b[34mdplyr\u001b[39m::\u001b[32mfilter()\u001b[39m  masks \u001b[34mstats\u001b[39m::filter()\n",
      "\u001b[31m✖\u001b[39m \u001b[34mdplyr\u001b[39m::\u001b[32mlag()\u001b[39m     masks \u001b[34mplm\u001b[39m::lag(), \u001b[34mstats\u001b[39m::lag()\n",
      "\u001b[31m✖\u001b[39m \u001b[34mdplyr\u001b[39m::\u001b[32mlead()\u001b[39m    masks \u001b[34mplm\u001b[39m::lead()\n",
      "\u001b[31m✖\u001b[39m \u001b[34mtidyr\u001b[39m::\u001b[32mpack()\u001b[39m    masks \u001b[34mMatrix\u001b[39m::pack()\n",
      "\u001b[31m✖\u001b[39m \u001b[34mdplyr\u001b[39m::\u001b[32mrecode()\u001b[39m  masks \u001b[34mcar\u001b[39m::recode()\n",
      "\u001b[31m✖\u001b[39m \u001b[34mpurrr\u001b[39m::\u001b[32msome()\u001b[39m    masks \u001b[34mcar\u001b[39m::some()\n",
      "\u001b[31m✖\u001b[39m \u001b[34mtidyr\u001b[39m::\u001b[32munpack()\u001b[39m  masks \u001b[34mMatrix\u001b[39m::unpack()\n",
      "\u001b[36mℹ\u001b[39m Use the conflicted package (\u001b[3m\u001b[34m<http://conflicted.r-lib.org/>\u001b[39m\u001b[23m) to force all conflicts to become errors\n"
     ]
    }
   ],
   "source": [
    "library(\"tidyverse\")"
   ]
  },
  {
   "cell_type": "code",
   "execution_count": 40,
   "id": "f9eeb340",
   "metadata": {},
   "outputs": [
    {
     "data": {
      "text/html": [
       "<table class=\"dataframe\">\n",
       "<caption>A data.frame: 6 × 10</caption>\n",
       "<thead>\n",
       "\t<tr><th></th><th scope=col>country</th><th scope=col>countrycode</th><th scope=col>year</th><th scope=col>excess_deaths_per_100k</th><th scope=col>covid_deaths_per_100k</th><th scope=col>GDP_per_capita</th><th scope=col>Age_65_over_percentage</th><th scope=col>urban_pop_percentage</th><th scope=col>Pop_density</th><th scope=col>Access_to_quality_healthcare</th></tr>\n",
       "\t<tr><th></th><th scope=col>&lt;chr&gt;</th><th scope=col>&lt;chr&gt;</th><th scope=col>&lt;int&gt;</th><th scope=col>&lt;dbl&gt;</th><th scope=col>&lt;dbl&gt;</th><th scope=col>&lt;dbl&gt;</th><th scope=col>&lt;dbl&gt;</th><th scope=col>&lt;int&gt;</th><th scope=col>&lt;int&gt;</th><th scope=col>&lt;dbl&gt;</th></tr>\n",
       "</thead>\n",
       "<tbody>\n",
       "\t<tr><th scope=row>1</th><td>Australia</td><td>AUS</td><td>2020</td><td>-13.49899</td><td>  3.547027</td><td>51868.25</td><td>16.2</td><td>86</td><td>  3</td><td>72.6</td></tr>\n",
       "\t<tr><th scope=row>2</th><td>Australia</td><td>AUS</td><td>2021</td><td> 18.93437</td><td>  5.290392</td><td>60697.25</td><td>16.6</td><td>86</td><td>  3</td><td>72.5</td></tr>\n",
       "\t<tr><th scope=row>3</th><td>Australia</td><td>AUS</td><td>2022</td><td> 84.34512</td><td> 55.575796</td><td>65099.85</td><td>16.6</td><td>86</td><td>  3</td><td>72.5</td></tr>\n",
       "\t<tr><th scope=row>4</th><td>Austria  </td><td>AUT</td><td>2020</td><td> 90.40592</td><td> 86.420701</td><td>48789.50</td><td>19.1</td><td>59</td><td>108</td><td>66.6</td></tr>\n",
       "\t<tr><th scope=row>5</th><td>Austria  </td><td>AUT</td><td>2021</td><td> 88.79044</td><td>102.250791</td><td>53517.89</td><td>19.4</td><td>59</td><td>109</td><td>66.8</td></tr>\n",
       "\t<tr><th scope=row>6</th><td>Austria  </td><td>AUT</td><td>2022</td><td>108.51695</td><td> 51.795809</td><td>52084.68</td><td>19.4</td><td>59</td><td>110</td><td>66.8</td></tr>\n",
       "</tbody>\n",
       "</table>\n"
      ],
      "text/latex": [
       "A data.frame: 6 × 10\n",
       "\\begin{tabular}{r|llllllllll}\n",
       "  & country & countrycode & year & excess\\_deaths\\_per\\_100k & covid\\_deaths\\_per\\_100k & GDP\\_per\\_capita & Age\\_65\\_over\\_percentage & urban\\_pop\\_percentage & Pop\\_density & Access\\_to\\_quality\\_healthcare\\\\\n",
       "  & <chr> & <chr> & <int> & <dbl> & <dbl> & <dbl> & <dbl> & <int> & <int> & <dbl>\\\\\n",
       "\\hline\n",
       "\t1 & Australia & AUS & 2020 & -13.49899 &   3.547027 & 51868.25 & 16.2 & 86 &   3 & 72.6\\\\\n",
       "\t2 & Australia & AUS & 2021 &  18.93437 &   5.290392 & 60697.25 & 16.6 & 86 &   3 & 72.5\\\\\n",
       "\t3 & Australia & AUS & 2022 &  84.34512 &  55.575796 & 65099.85 & 16.6 & 86 &   3 & 72.5\\\\\n",
       "\t4 & Austria   & AUT & 2020 &  90.40592 &  86.420701 & 48789.50 & 19.1 & 59 & 108 & 66.6\\\\\n",
       "\t5 & Austria   & AUT & 2021 &  88.79044 & 102.250791 & 53517.89 & 19.4 & 59 & 109 & 66.8\\\\\n",
       "\t6 & Austria   & AUT & 2022 & 108.51695 &  51.795809 & 52084.68 & 19.4 & 59 & 110 & 66.8\\\\\n",
       "\\end{tabular}\n"
      ],
      "text/markdown": [
       "\n",
       "A data.frame: 6 × 10\n",
       "\n",
       "| <!--/--> | country &lt;chr&gt; | countrycode &lt;chr&gt; | year &lt;int&gt; | excess_deaths_per_100k &lt;dbl&gt; | covid_deaths_per_100k &lt;dbl&gt; | GDP_per_capita &lt;dbl&gt; | Age_65_over_percentage &lt;dbl&gt; | urban_pop_percentage &lt;int&gt; | Pop_density &lt;int&gt; | Access_to_quality_healthcare &lt;dbl&gt; |\n",
       "|---|---|---|---|---|---|---|---|---|---|---|\n",
       "| 1 | Australia | AUS | 2020 | -13.49899 |   3.547027 | 51868.25 | 16.2 | 86 |   3 | 72.6 |\n",
       "| 2 | Australia | AUS | 2021 |  18.93437 |   5.290392 | 60697.25 | 16.6 | 86 |   3 | 72.5 |\n",
       "| 3 | Australia | AUS | 2022 |  84.34512 |  55.575796 | 65099.85 | 16.6 | 86 |   3 | 72.5 |\n",
       "| 4 | Austria   | AUT | 2020 |  90.40592 |  86.420701 | 48789.50 | 19.1 | 59 | 108 | 66.6 |\n",
       "| 5 | Austria   | AUT | 2021 |  88.79044 | 102.250791 | 53517.89 | 19.4 | 59 | 109 | 66.8 |\n",
       "| 6 | Austria   | AUT | 2022 | 108.51695 |  51.795809 | 52084.68 | 19.4 | 59 | 110 | 66.8 |\n",
       "\n"
      ],
      "text/plain": [
       "  country   countrycode year excess_deaths_per_100k covid_deaths_per_100k\n",
       "1 Australia AUS         2020 -13.49899                3.547027           \n",
       "2 Australia AUS         2021  18.93437                5.290392           \n",
       "3 Australia AUS         2022  84.34512               55.575796           \n",
       "4 Austria   AUT         2020  90.40592               86.420701           \n",
       "5 Austria   AUT         2021  88.79044              102.250791           \n",
       "6 Austria   AUT         2022 108.51695               51.795809           \n",
       "  GDP_per_capita Age_65_over_percentage urban_pop_percentage Pop_density\n",
       "1 51868.25       16.2                   86                     3        \n",
       "2 60697.25       16.6                   86                     3        \n",
       "3 65099.85       16.6                   86                     3        \n",
       "4 48789.50       19.1                   59                   108        \n",
       "5 53517.89       19.4                   59                   109        \n",
       "6 52084.68       19.4                   59                   110        \n",
       "  Access_to_quality_healthcare\n",
       "1 72.6                        \n",
       "2 72.5                        \n",
       "3 72.5                        \n",
       "4 66.6                        \n",
       "5 66.8                        \n",
       "6 66.8                        "
      ]
     },
     "metadata": {},
     "output_type": "display_data"
    }
   ],
   "source": [
    "\n",
    "data1 <- df %>%\n",
    "  select(country,countrycode, year, excess_deaths_per_100k, covid_deaths_per_100k,  GDP_per_capita, Age_65_over_percentage, urban_pop_percentage, Pop_density, Access_to_quality_healthcare)\n",
    "\n",
    "head(data1)\n"
   ]
  },
  {
   "cell_type": "markdown",
   "id": "53833f17",
   "metadata": {},
   "source": [
    "# For 2020"
   ]
  },
  {
   "cell_type": "code",
   "execution_count": 41,
   "id": "6ffc8b5a",
   "metadata": {},
   "outputs": [
    {
     "data": {
      "text/html": [
       "<table class=\"dataframe\">\n",
       "<caption>A data.frame: 6 × 10</caption>\n",
       "<thead>\n",
       "\t<tr><th></th><th scope=col>country</th><th scope=col>countrycode</th><th scope=col>year</th><th scope=col>excess_deaths_per_100k</th><th scope=col>covid_deaths_per_100k</th><th scope=col>GDP_per_capita</th><th scope=col>Age_65_over_percentage</th><th scope=col>urban_pop_percentage</th><th scope=col>Pop_density</th><th scope=col>Access_to_quality_healthcare</th></tr>\n",
       "\t<tr><th></th><th scope=col>&lt;chr&gt;</th><th scope=col>&lt;chr&gt;</th><th scope=col>&lt;int&gt;</th><th scope=col>&lt;dbl&gt;</th><th scope=col>&lt;dbl&gt;</th><th scope=col>&lt;dbl&gt;</th><th scope=col>&lt;dbl&gt;</th><th scope=col>&lt;int&gt;</th><th scope=col>&lt;int&gt;</th><th scope=col>&lt;dbl&gt;</th></tr>\n",
       "</thead>\n",
       "<tbody>\n",
       "\t<tr><th scope=row>1</th><td>Australia</td><td>AUS</td><td>2020</td><td>-13.49899</td><td>  3.547027</td><td>51868.248</td><td>16.2</td><td>86</td><td>  3</td><td>72.6</td></tr>\n",
       "\t<tr><th scope=row>2</th><td>Austria  </td><td>AUT</td><td>2020</td><td> 90.40592</td><td> 86.420701</td><td>48789.498</td><td>19.1</td><td>59</td><td>108</td><td>66.6</td></tr>\n",
       "\t<tr><th scope=row>3</th><td>Belgium  </td><td>BEL</td><td>2020</td><td>159.48534</td><td>172.226530</td><td>45609.003</td><td>19.2</td><td>99</td><td>380</td><td>68.3</td></tr>\n",
       "\t<tr><th scope=row>4</th><td>Canada   </td><td>CAN</td><td>2020</td><td> 38.75704</td><td> 42.078907</td><td>43349.678</td><td>18.0</td><td>81</td><td>  4</td><td>70.0</td></tr>\n",
       "\t<tr><th scope=row>5</th><td>Chile    </td><td>CHL</td><td>2020</td><td> 73.40521</td><td> 80.736714</td><td>13173.785</td><td>12.4</td><td>85</td><td> 26</td><td>61.6</td></tr>\n",
       "\t<tr><th scope=row>6</th><td>Colombia </td><td>COL</td><td>2020</td><td>108.66106</td><td> 87.218909</td><td> 5304.289</td><td> 8.1</td><td>81</td><td> 45</td><td>78.6</td></tr>\n",
       "</tbody>\n",
       "</table>\n"
      ],
      "text/latex": [
       "A data.frame: 6 × 10\n",
       "\\begin{tabular}{r|llllllllll}\n",
       "  & country & countrycode & year & excess\\_deaths\\_per\\_100k & covid\\_deaths\\_per\\_100k & GDP\\_per\\_capita & Age\\_65\\_over\\_percentage & urban\\_pop\\_percentage & Pop\\_density & Access\\_to\\_quality\\_healthcare\\\\\n",
       "  & <chr> & <chr> & <int> & <dbl> & <dbl> & <dbl> & <dbl> & <int> & <int> & <dbl>\\\\\n",
       "\\hline\n",
       "\t1 & Australia & AUS & 2020 & -13.49899 &   3.547027 & 51868.248 & 16.2 & 86 &   3 & 72.6\\\\\n",
       "\t2 & Austria   & AUT & 2020 &  90.40592 &  86.420701 & 48789.498 & 19.1 & 59 & 108 & 66.6\\\\\n",
       "\t3 & Belgium   & BEL & 2020 & 159.48534 & 172.226530 & 45609.003 & 19.2 & 99 & 380 & 68.3\\\\\n",
       "\t4 & Canada    & CAN & 2020 &  38.75704 &  42.078907 & 43349.678 & 18.0 & 81 &   4 & 70.0\\\\\n",
       "\t5 & Chile     & CHL & 2020 &  73.40521 &  80.736714 & 13173.785 & 12.4 & 85 &  26 & 61.6\\\\\n",
       "\t6 & Colombia  & COL & 2020 & 108.66106 &  87.218909 &  5304.289 &  8.1 & 81 &  45 & 78.6\\\\\n",
       "\\end{tabular}\n"
      ],
      "text/markdown": [
       "\n",
       "A data.frame: 6 × 10\n",
       "\n",
       "| <!--/--> | country &lt;chr&gt; | countrycode &lt;chr&gt; | year &lt;int&gt; | excess_deaths_per_100k &lt;dbl&gt; | covid_deaths_per_100k &lt;dbl&gt; | GDP_per_capita &lt;dbl&gt; | Age_65_over_percentage &lt;dbl&gt; | urban_pop_percentage &lt;int&gt; | Pop_density &lt;int&gt; | Access_to_quality_healthcare &lt;dbl&gt; |\n",
       "|---|---|---|---|---|---|---|---|---|---|---|\n",
       "| 1 | Australia | AUS | 2020 | -13.49899 |   3.547027 | 51868.248 | 16.2 | 86 |   3 | 72.6 |\n",
       "| 2 | Austria   | AUT | 2020 |  90.40592 |  86.420701 | 48789.498 | 19.1 | 59 | 108 | 66.6 |\n",
       "| 3 | Belgium   | BEL | 2020 | 159.48534 | 172.226530 | 45609.003 | 19.2 | 99 | 380 | 68.3 |\n",
       "| 4 | Canada    | CAN | 2020 |  38.75704 |  42.078907 | 43349.678 | 18.0 | 81 |   4 | 70.0 |\n",
       "| 5 | Chile     | CHL | 2020 |  73.40521 |  80.736714 | 13173.785 | 12.4 | 85 |  26 | 61.6 |\n",
       "| 6 | Colombia  | COL | 2020 | 108.66106 |  87.218909 |  5304.289 |  8.1 | 81 |  45 | 78.6 |\n",
       "\n"
      ],
      "text/plain": [
       "  country   countrycode year excess_deaths_per_100k covid_deaths_per_100k\n",
       "1 Australia AUS         2020 -13.49899                3.547027           \n",
       "2 Austria   AUT         2020  90.40592               86.420701           \n",
       "3 Belgium   BEL         2020 159.48534              172.226530           \n",
       "4 Canada    CAN         2020  38.75704               42.078907           \n",
       "5 Chile     CHL         2020  73.40521               80.736714           \n",
       "6 Colombia  COL         2020 108.66106               87.218909           \n",
       "  GDP_per_capita Age_65_over_percentage urban_pop_percentage Pop_density\n",
       "1 51868.248      16.2                   86                     3        \n",
       "2 48789.498      19.1                   59                   108        \n",
       "3 45609.003      19.2                   99                   380        \n",
       "4 43349.678      18.0                   81                     4        \n",
       "5 13173.785      12.4                   85                    26        \n",
       "6  5304.289       8.1                   81                    45        \n",
       "  Access_to_quality_healthcare\n",
       "1 72.6                        \n",
       "2 66.6                        \n",
       "3 68.3                        \n",
       "4 70.0                        \n",
       "5 61.6                        \n",
       "6 78.6                        "
      ]
     },
     "metadata": {},
     "output_type": "display_data"
    }
   ],
   "source": [
    "data_2020 = data1 %>%\n",
    "   filter(year==2020)\n",
    "head(data_2020)"
   ]
  },
  {
   "cell_type": "code",
   "execution_count": 42,
   "id": "1975882e",
   "metadata": {},
   "outputs": [],
   "source": [
    "# Ensure that the column names are written exactly as they are in your data frame\n",
    "X <- as.matrix(data_2020[, c(\"covid_deaths_per_100k\", \"GDP_per_capita\", \"Age_65_over_percentage\", \"urban_pop_percentage\", \"Pop_density\", \"Access_to_quality_healthcare\")])\n",
    "\n",
    "# Response variable\n",
    "y <- data_2020$excess_deaths_per_100k\n"
   ]
  },
  {
   "cell_type": "code",
   "execution_count": 43,
   "id": "f4a40322",
   "metadata": {},
   "outputs": [
    {
     "name": "stderr",
     "output_type": "stream",
     "text": [
      "Loaded glmnet 4.1-8\n",
      "\n"
     ]
    },
    {
     "name": "stdout",
     "output_type": "stream",
     "text": [
      "\n",
      "Call:  cv.glmnet(x = X, y = y, alpha = 1) \n",
      "\n",
      "Measure: Mean-Squared Error \n",
      "\n",
      "    Lambda Index Measure     SE Nonzero\n",
      "min  2.422    35    1862  884.7       5\n",
      "1se 22.583    11    2732 1150.2       2\n",
      "7 x 1 sparse Matrix of class \"dgCMatrix\"\n",
      "                                        s1\n",
      "(Intercept)                   1.992540e+02\n",
      "covid_deaths_per_100k         1.177815e+00\n",
      "GDP_per_capita               -5.367705e-04\n",
      "Age_65_over_percentage       -1.586274e+00\n",
      "urban_pop_percentage         -6.605078e-01\n",
      "Pop_density                   .           \n",
      "Access_to_quality_healthcare -1.351893e+00\n"
     ]
    },
    {
     "data": {
      "image/png": "[encoded data removed]",
      "text/plain": [
       "plot without title"
      ]
     },
     "metadata": {
      "image/png": {
       "height": 420,
       "width": 420
      }
     },
     "output_type": "display_data"
    }
   ],
   "source": [
    "library(glmnet)\n",
    "\n",
    "lasso_model_2020 <- cv.glmnet(X, y, alpha = 1)  # alpha = 1 corresponds to Lasso\n",
    "\n",
    "# Display the cross-validated Lasso model\n",
    "print(lasso_model_2020)\n",
    "# Plot the cross-validated mean squared error (cvm) as a function of log(lambda)\n",
    "plot(lasso_model_2020)\n",
    "\n",
    "# Choose the best lambda value\n",
    "best_lambda <- lasso_model_2020$lambda.min\n",
    "\n",
    "# Extract coefficients for the best lambda\n",
    "lasso_coefficients <- coef(lasso_model_2020, s = best_lambda)\n",
    "\n",
    "# Display the coefficients\n",
    "print(lasso_coefficients)\n"
   ]
  },
  {
   "cell_type": "code",
   "execution_count": 44,
   "id": "c3589658",
   "metadata": {},
   "outputs": [
    {
     "data": {
      "image/png": "[encoded data removed]",
      "text/plain": [
       "plot without title"
      ]
     },
     "metadata": {
      "image/png": {
       "height": 420,
       "width": 420
      }
     },
     "output_type": "display_data"
    }
   ],
   "source": [
    "op <- par(mfrow=c(1, 2))\n",
    "plot(lasso_model_2020$glmnet.fit, \"norm\",   label=TRUE)\n",
    "plot(lasso_model_2020$glmnet.fit, \"lambda\", label=TRUE)\n",
    "par(op)"
   ]
  },
  {
   "cell_type": "markdown",
   "id": "47958e09",
   "metadata": {},
   "source": [
    "The cv.glmnet function performs LASSO regression across a range of lambda values (which control the strength of the penalty applied to the model). It uses cross-validation to determine how well each model performs. The performance measure used here is the Mean-Squared Error (MSE), which assesses the average squared difference between the observed actual outcomes and the outcomes predicted by the model.\n",
    "\n",
    "The output indicates two lambda values of interest:\n",
    "\n",
    "min: The lambda value that gives the minimum mean squared error. Here, it's 2.422, associated with an MSE of 1862 and a standard error of 884.7. The model with this lambda value includes 5 predictors.\n",
    "\n",
    "1se: The lambda value one standard error away from the minimum MSE. It's often used as a more conservative choice, trading off some increase in error for a simpler model with fewer predictors. Here, it's 22.583, associated with an MSE of 2732, a standard error of 1150.2, and 3 predictors included in the model.\n",
    "\n",
    "The sparse matrix shows the coefficients of the model at the lambda value that minimizes MSE:\n",
    "\n",
    "(Intercept): The model's intercept.\n",
    "covid_deaths_per_100k: For each additional COVID-19 death per 100k, excess deaths per 100k increase by 1.17, holding all other variables constant.\n",
    "GDP_per_capita: Each unit increase in GDP per capita is associated with a decrease in excess deaths per 100k of 0.0005367, although this relationship is likely very small given the coefficient size.\n",
    "Age_65_over_percentage: Each percentage point increase in the population over 65 is associated with a decrease in excess deaths per 100k of 1.5862.\n",
    "urban_pop_percentage: Each percentage point increase in the urban population is associated with a decrease in excess deaths per 100k of 0.66050.\n",
    "Pop_density: This variable was not selected by the model at the optimal lambda, which is indicated by a dot (meaning its coefficient was shrunk to zero).\n",
    "Access_to_quality_healthcare: Each unit increase in the access to quality healthcare score is associated with a decrease in excess deaths per 100k of 1.3518."
   ]
  },
  {
   "cell_type": "markdown",
   "id": "ad1d9bcc",
   "metadata": {},
   "source": [
    "# # For 2021 "
   ]
  },
  {
   "cell_type": "code",
   "execution_count": 45,
   "id": "35594a38",
   "metadata": {},
   "outputs": [
    {
     "data": {
      "text/html": [
       "<table class=\"dataframe\">\n",
       "<caption>A data.frame: 6 × 20</caption>\n",
       "<thead>\n",
       "\t<tr><th></th><th scope=col>country</th><th scope=col>countrycode</th><th scope=col>year</th><th scope=col>total_deaths</th><th scope=col>covid_deaths</th><th scope=col>expected_deaths</th><th scope=col>excess_deaths</th><th scope=col>population</th><th scope=col>land_area</th><th scope=col>Ratio.of.Excess.death.to.COVID.19.deaths</th><th scope=col>non_covid_deaths</th><th scope=col>covid_deaths_per_100k</th><th scope=col>excess_deaths_per_100k</th><th scope=col>GDP_per_capita</th><th scope=col>Age_65_over_percentage</th><th scope=col>urban_pop_percentage</th><th scope=col>Pop_density</th><th scope=col>Access_to_quality_healthcare</th><th scope=col>year2021</th><th scope=col>year2022</th></tr>\n",
       "\t<tr><th></th><th scope=col>&lt;chr&gt;</th><th scope=col>&lt;chr&gt;</th><th scope=col>&lt;int&gt;</th><th scope=col>&lt;dbl&gt;</th><th scope=col>&lt;int&gt;</th><th scope=col>&lt;dbl&gt;</th><th scope=col>&lt;dbl&gt;</th><th scope=col>&lt;int&gt;</th><th scope=col>&lt;chr&gt;</th><th scope=col>&lt;dbl&gt;</th><th scope=col>&lt;dbl&gt;</th><th scope=col>&lt;dbl&gt;</th><th scope=col>&lt;dbl&gt;</th><th scope=col>&lt;dbl&gt;</th><th scope=col>&lt;dbl&gt;</th><th scope=col>&lt;int&gt;</th><th scope=col>&lt;int&gt;</th><th scope=col>&lt;dbl&gt;</th><th scope=col>&lt;dbl&gt;</th><th scope=col>&lt;dbl&gt;</th></tr>\n",
       "</thead>\n",
       "<tbody>\n",
       "\t<tr><th scope=row>1</th><td>Australia</td><td>AUS</td><td>2021</td><td>171718</td><td> 1359</td><td>166854.12</td><td>  4863.877</td><td>25688079</td><td>7682300  </td><td>3.6</td><td>170359</td><td>  5.290392</td><td> 18.93437</td><td>60697.245</td><td>16.6</td><td>86</td><td>  3</td><td>72.5</td><td>1</td><td>0</td></tr>\n",
       "\t<tr><th scope=row>2</th><td>Austria  </td><td>AUT</td><td>2021</td><td> 89538</td><td> 9153</td><td> 81589.91</td><td>  7948.094</td><td> 8951520</td><td>82409    </td><td>0.9</td><td> 80385</td><td>102.250791</td><td> 88.79044</td><td>53517.890</td><td>19.4</td><td>59</td><td>109</td><td>66.8</td><td>1</td><td>0</td></tr>\n",
       "\t<tr><th scope=row>3</th><td>Belgium  </td><td>BEL</td><td>2021</td><td>111956</td><td> 8630</td><td>107520.51</td><td>  4435.492</td><td>11552615</td><td>30280    </td><td>0.5</td><td>103326</td><td> 74.701702</td><td> 38.39384</td><td>51850.397</td><td>19.4</td><td>99</td><td>382</td><td>68.0</td><td>1</td><td>0</td></tr>\n",
       "\t<tr><th scope=row>4</th><td>Canada   </td><td>CAN</td><td>2021</td><td>311005</td><td>14379</td><td>297117.82</td><td> 13887.180</td><td>38226498</td><td>9,093,510</td><td>1.0</td><td>296626</td><td> 37.615269</td><td> 36.32867</td><td>52358.622</td><td>18.5</td><td>81</td><td>  4</td><td>70.0</td><td>1</td><td>0</td></tr>\n",
       "\t<tr><th scope=row>5</th><td>Chile    </td><td>CHL</td><td>2021</td><td>137087</td><td>22608</td><td>112491.26</td><td> 24595.736</td><td>19678363</td><td>743,532  </td><td>1.1</td><td>114479</td><td>114.887605</td><td>124.98873</td><td>16240.608</td><td>12.7</td><td>85</td><td> 26</td><td>61.0</td><td>1</td><td>0</td></tr>\n",
       "\t<tr><th scope=row>6</th><td>Colombia </td><td>COL</td><td>2021</td><td>361403</td><td>86061</td><td>252568.00</td><td>108834.999</td><td>51117378</td><td>1,109,500</td><td>1.3</td><td>275342</td><td>168.359574</td><td>212.91193</td><td> 6182.707</td><td> 8.2</td><td>81</td><td> 46</td><td>78.5</td><td>1</td><td>0</td></tr>\n",
       "</tbody>\n",
       "</table>\n"
      ],
      "text/latex": [
       "A data.frame: 6 × 20\n",
       "\\begin{tabular}{r|llllllllllllllllllll}\n",
       "  & country & countrycode & year & total\\_deaths & covid\\_deaths & expected\\_deaths & excess\\_deaths & population & land\\_area & Ratio.of.Excess.death.to.COVID.19.deaths & non\\_covid\\_deaths & covid\\_deaths\\_per\\_100k & excess\\_deaths\\_per\\_100k & GDP\\_per\\_capita & Age\\_65\\_over\\_percentage & urban\\_pop\\_percentage & Pop\\_density & Access\\_to\\_quality\\_healthcare & year2021 & year2022\\\\\n",
       "  & <chr> & <chr> & <int> & <dbl> & <int> & <dbl> & <dbl> & <int> & <chr> & <dbl> & <dbl> & <dbl> & <dbl> & <dbl> & <dbl> & <int> & <int> & <dbl> & <dbl> & <dbl>\\\\\n",
       "\\hline\n",
       "\t1 & Australia & AUS & 2021 & 171718 &  1359 & 166854.12 &   4863.877 & 25688079 & 7682300   & 3.6 & 170359 &   5.290392 &  18.93437 & 60697.245 & 16.6 & 86 &   3 & 72.5 & 1 & 0\\\\\n",
       "\t2 & Austria   & AUT & 2021 &  89538 &  9153 &  81589.91 &   7948.094 &  8951520 & 82409     & 0.9 &  80385 & 102.250791 &  88.79044 & 53517.890 & 19.4 & 59 & 109 & 66.8 & 1 & 0\\\\\n",
       "\t3 & Belgium   & BEL & 2021 & 111956 &  8630 & 107520.51 &   4435.492 & 11552615 & 30280     & 0.5 & 103326 &  74.701702 &  38.39384 & 51850.397 & 19.4 & 99 & 382 & 68.0 & 1 & 0\\\\\n",
       "\t4 & Canada    & CAN & 2021 & 311005 & 14379 & 297117.82 &  13887.180 & 38226498 & 9,093,510 & 1.0 & 296626 &  37.615269 &  36.32867 & 52358.622 & 18.5 & 81 &   4 & 70.0 & 1 & 0\\\\\n",
       "\t5 & Chile     & CHL & 2021 & 137087 & 22608 & 112491.26 &  24595.736 & 19678363 & 743,532   & 1.1 & 114479 & 114.887605 & 124.98873 & 16240.608 & 12.7 & 85 &  26 & 61.0 & 1 & 0\\\\\n",
       "\t6 & Colombia  & COL & 2021 & 361403 & 86061 & 252568.00 & 108834.999 & 51117378 & 1,109,500 & 1.3 & 275342 & 168.359574 & 212.91193 &  6182.707 &  8.2 & 81 &  46 & 78.5 & 1 & 0\\\\\n",
       "\\end{tabular}\n"
      ],
      "text/markdown": [
       "\n",
       "A data.frame: 6 × 20\n",
       "\n",
       "| <!--/--> | country &lt;chr&gt; | countrycode &lt;chr&gt; | year &lt;int&gt; | total_deaths &lt;dbl&gt; | covid_deaths &lt;int&gt; | expected_deaths &lt;dbl&gt; | excess_deaths &lt;dbl&gt; | population &lt;int&gt; | land_area &lt;chr&gt; | Ratio.of.Excess.death.to.COVID.19.deaths &lt;dbl&gt; | non_covid_deaths &lt;dbl&gt; | covid_deaths_per_100k &lt;dbl&gt; | excess_deaths_per_100k &lt;dbl&gt; | GDP_per_capita &lt;dbl&gt; | Age_65_over_percentage &lt;dbl&gt; | urban_pop_percentage &lt;int&gt; | Pop_density &lt;int&gt; | Access_to_quality_healthcare &lt;dbl&gt; | year2021 &lt;dbl&gt; | year2022 &lt;dbl&gt; |\n",
       "|---|---|---|---|---|---|---|---|---|---|---|---|---|---|---|---|---|---|---|---|---|\n",
       "| 1 | Australia | AUS | 2021 | 171718 |  1359 | 166854.12 |   4863.877 | 25688079 | 7682300   | 3.6 | 170359 |   5.290392 |  18.93437 | 60697.245 | 16.6 | 86 |   3 | 72.5 | 1 | 0 |\n",
       "| 2 | Austria   | AUT | 2021 |  89538 |  9153 |  81589.91 |   7948.094 |  8951520 | 82409     | 0.9 |  80385 | 102.250791 |  88.79044 | 53517.890 | 19.4 | 59 | 109 | 66.8 | 1 | 0 |\n",
       "| 3 | Belgium   | BEL | 2021 | 111956 |  8630 | 107520.51 |   4435.492 | 11552615 | 30280     | 0.5 | 103326 |  74.701702 |  38.39384 | 51850.397 | 19.4 | 99 | 382 | 68.0 | 1 | 0 |\n",
       "| 4 | Canada    | CAN | 2021 | 311005 | 14379 | 297117.82 |  13887.180 | 38226498 | 9,093,510 | 1.0 | 296626 |  37.615269 |  36.32867 | 52358.622 | 18.5 | 81 |   4 | 70.0 | 1 | 0 |\n",
       "| 5 | Chile     | CHL | 2021 | 137087 | 22608 | 112491.26 |  24595.736 | 19678363 | 743,532   | 1.1 | 114479 | 114.887605 | 124.98873 | 16240.608 | 12.7 | 85 |  26 | 61.0 | 1 | 0 |\n",
       "| 6 | Colombia  | COL | 2021 | 361403 | 86061 | 252568.00 | 108834.999 | 51117378 | 1,109,500 | 1.3 | 275342 | 168.359574 | 212.91193 |  6182.707 |  8.2 | 81 |  46 | 78.5 | 1 | 0 |\n",
       "\n"
      ],
      "text/plain": [
       "  country   countrycode year total_deaths covid_deaths expected_deaths\n",
       "1 Australia AUS         2021 171718        1359        166854.12      \n",
       "2 Austria   AUT         2021  89538        9153         81589.91      \n",
       "3 Belgium   BEL         2021 111956        8630        107520.51      \n",
       "4 Canada    CAN         2021 311005       14379        297117.82      \n",
       "5 Chile     CHL         2021 137087       22608        112491.26      \n",
       "6 Colombia  COL         2021 361403       86061        252568.00      \n",
       "  excess_deaths population land_area Ratio.of.Excess.death.to.COVID.19.deaths\n",
       "1   4863.877    25688079   7682300   3.6                                     \n",
       "2   7948.094     8951520   82409     0.9                                     \n",
       "3   4435.492    11552615   30280     0.5                                     \n",
       "4  13887.180    38226498   9,093,510 1.0                                     \n",
       "5  24595.736    19678363   743,532   1.1                                     \n",
       "6 108834.999    51117378   1,109,500 1.3                                     \n",
       "  non_covid_deaths covid_deaths_per_100k excess_deaths_per_100k GDP_per_capita\n",
       "1 170359             5.290392             18.93437              60697.245     \n",
       "2  80385           102.250791             88.79044              53517.890     \n",
       "3 103326            74.701702             38.39384              51850.397     \n",
       "4 296626            37.615269             36.32867              52358.622     \n",
       "5 114479           114.887605            124.98873              16240.608     \n",
       "6 275342           168.359574            212.91193               6182.707     \n",
       "  Age_65_over_percentage urban_pop_percentage Pop_density\n",
       "1 16.6                   86                     3        \n",
       "2 19.4                   59                   109        \n",
       "3 19.4                   99                   382        \n",
       "4 18.5                   81                     4        \n",
       "5 12.7                   85                    26        \n",
       "6  8.2                   81                    46        \n",
       "  Access_to_quality_healthcare year2021 year2022\n",
       "1 72.5                         1        0       \n",
       "2 66.8                         1        0       \n",
       "3 68.0                         1        0       \n",
       "4 70.0                         1        0       \n",
       "5 61.0                         1        0       \n",
       "6 78.5                         1        0       "
      ]
     },
     "metadata": {},
     "output_type": "display_data"
    }
   ],
   "source": [
    "data_2021 = df %>%\n",
    "   filter(year==2021)\n",
    "head(data_2021)"
   ]
  },
  {
   "cell_type": "code",
   "execution_count": 46,
   "id": "29d46c3e",
   "metadata": {},
   "outputs": [
    {
     "name": "stdout",
     "output_type": "stream",
     "text": [
      "\n",
      "Call:  cv.glmnet(x = X, y = y, alpha = 1) \n",
      "\n",
      "Measure: Mean-Squared Error \n",
      "\n",
      "    Lambda Index Measure     SE Nonzero\n",
      "min  3.138    38    2798  741.4       6\n",
      "1se 26.666    15    3519 1157.4       1\n",
      "7 x 1 sparse Matrix of class \"dgCMatrix\"\n",
      "                                        s1\n",
      "(Intercept)                   3.236075e+02\n",
      "covid_deaths_per_100k         1.017162e+00\n",
      "GDP_per_capita               -4.245771e-04\n",
      "Age_65_over_percentage       -3.099793e+00\n",
      "urban_pop_percentage         -2.912802e-01\n",
      "Pop_density                  -7.242283e-03\n",
      "Access_to_quality_healthcare -3.013143e+00\n"
     ]
    },
    {
     "data": {
      "image/png": "[encoded data removed]",
      "text/plain": [
       "plot without title"
      ]
     },
     "metadata": {
      "image/png": {
       "height": 420,
       "width": 420
      }
     },
     "output_type": "display_data"
    }
   ],
   "source": [
    "\n",
    "# Ensure that the column names are written exactly as they are in your data frame\n",
    "X <- as.matrix(data_2021[, c(\"covid_deaths_per_100k\", \"GDP_per_capita\", \"Age_65_over_percentage\", \"urban_pop_percentage\", \"Pop_density\", \"Access_to_quality_healthcare\")])\n",
    "\n",
    "# Response variable\n",
    "y <- data_2021$excess_deaths_per_100k\n",
    "\n",
    "\n",
    "\n",
    "\n",
    "\n",
    "\n",
    "\n",
    "# Fit Lasso regression model\n",
    "lasso_model_2021 <- cv.glmnet(X, y, alpha = 1)  # alpha = 1 corresponds to Lasso\n",
    "\n",
    "# Display the cross-validated Lasso model\n",
    "print(lasso_model_2021)\n",
    "# Plot the cross-validated mean squared error (cvm) as a function of log(lambda)\n",
    "plot(lasso_model_2021)\n",
    "\n",
    "# Choose the best lambda value\n",
    "best_lambda <- lasso_model_2021$lambda.min\n",
    "\n",
    "# Extract coefficients for the best lambda\n",
    "lasso_coefficients_2021 <- coef(lasso_model_2021, s = best_lambda)\n",
    "\n",
    "# Display the coefficients\n",
    "print(lasso_coefficients_2021)"
   ]
  },
  {
   "cell_type": "markdown",
   "id": "069d507d",
   "metadata": {},
   "source": [
    "min: The lambda value that gives the minimum mean squared error in the cross-validation. It is reported to be 3.138, corresponding to an MSE of 2798 with a standard error of 741.4, and the model at this lambda has 6 non-zero coefficients.\n",
    "\n",
    "1se: The lambda value that gives the simplest model within one standard error of the minimum MSE. It is more conservative and results in fewer variables being included in the model (1 non-zero coefficient in this case). It is reported to be 26.666, corresponding to an MSE of 3519 with a standard error of 1157.4.\n",
    "\n",
    "The coefficients provided are for the model with the lambda that minimizes the MSE (min lambda). The interpretation of the coefficients is as follows:\n",
    "\n",
    "(Intercept): The baseline level of excess deaths per 100k when all other predictors are zero is approximately 323.6.\n",
    "\n",
    "covid_deaths_per_100k: For each additional COVID-19 death per 100k, there is an increase of 1.017 excess deaths per 100k, holding other variables constant.\n",
    "GDP_per_capita: Each unit increase in GDP per capita is associated with a decrease in excess deaths per 100k of 0.000425.\n",
    "\n",
    "Age_65_over_percentage: Each percentage point increase in the population over 65 is associated with a decrease in excess deaths per 100k of 3.0997.\n",
    "\n",
    "urban_pop_percentage: Each percentage point increase in the urban population is associated with a decrease in excess deaths per 100k of 0.291.\n",
    "\n",
    "Pop_density: Each unit increase in population density is associated with a decrease in excess deaths per 100k of 0.0072.\n",
    "\n",
    "Access_to_quality_healthcare: Each unit increase in the access to quality healthcare score is associated with a decrease in excess deaths per 100k of 3.013."
   ]
  },
  {
   "cell_type": "markdown",
   "id": "303f8984",
   "metadata": {},
   "source": [
    "# For 2022"
   ]
  },
  {
   "cell_type": "code",
   "execution_count": 47,
   "id": "d7dfdfab",
   "metadata": {},
   "outputs": [
    {
     "data": {
      "text/html": [
       "<table class=\"dataframe\">\n",
       "<caption>A data.frame: 6 × 20</caption>\n",
       "<thead>\n",
       "\t<tr><th></th><th scope=col>country</th><th scope=col>countrycode</th><th scope=col>year</th><th scope=col>total_deaths</th><th scope=col>covid_deaths</th><th scope=col>expected_deaths</th><th scope=col>excess_deaths</th><th scope=col>population</th><th scope=col>land_area</th><th scope=col>Ratio.of.Excess.death.to.COVID.19.deaths</th><th scope=col>non_covid_deaths</th><th scope=col>covid_deaths_per_100k</th><th scope=col>excess_deaths_per_100k</th><th scope=col>GDP_per_capita</th><th scope=col>Age_65_over_percentage</th><th scope=col>urban_pop_percentage</th><th scope=col>Pop_density</th><th scope=col>Access_to_quality_healthcare</th><th scope=col>year2021</th><th scope=col>year2022</th></tr>\n",
       "\t<tr><th></th><th scope=col>&lt;chr&gt;</th><th scope=col>&lt;chr&gt;</th><th scope=col>&lt;int&gt;</th><th scope=col>&lt;dbl&gt;</th><th scope=col>&lt;int&gt;</th><th scope=col>&lt;dbl&gt;</th><th scope=col>&lt;dbl&gt;</th><th scope=col>&lt;int&gt;</th><th scope=col>&lt;chr&gt;</th><th scope=col>&lt;dbl&gt;</th><th scope=col>&lt;dbl&gt;</th><th scope=col>&lt;dbl&gt;</th><th scope=col>&lt;dbl&gt;</th><th scope=col>&lt;dbl&gt;</th><th scope=col>&lt;dbl&gt;</th><th scope=col>&lt;int&gt;</th><th scope=col>&lt;int&gt;</th><th scope=col>&lt;dbl&gt;</th><th scope=col>&lt;dbl&gt;</th><th scope=col>&lt;dbl&gt;</th></tr>\n",
       "</thead>\n",
       "<tbody>\n",
       "\t<tr><th scope=row>1</th><td>Australia</td><td>AUS</td><td>2022</td><td>190326</td><td>14438</td><td>168414.04</td><td>21911.965</td><td>25978935</td><td>7682300  </td><td>1.5</td><td>175888</td><td>55.57580</td><td> 84.34512</td><td>65099.846</td><td>16.6</td><td>86</td><td>  3</td><td>72.5</td><td>0</td><td>1</td></tr>\n",
       "\t<tr><th scope=row>2</th><td>Austria  </td><td>AUT</td><td>2022</td><td> 91582</td><td> 4689</td><td> 81758.12</td><td> 9823.883</td><td> 9052856</td><td>82409    </td><td>2.1</td><td> 86893</td><td>51.79581</td><td>108.51695</td><td>52084.681</td><td>19.4</td><td>59</td><td>110</td><td>66.8</td><td>0</td><td>1</td></tr>\n",
       "\t<tr><th scope=row>3</th><td>Belgium  </td><td>BEL</td><td>2022</td><td>116138</td><td> 4897</td><td>107158.52</td><td> 8979.476</td><td>11640788</td><td>30280    </td><td>1.8</td><td>111241</td><td>42.06760</td><td> 77.13805</td><td>49926.825</td><td>19.4</td><td>99</td><td>384</td><td>68.0</td><td>0</td><td>1</td></tr>\n",
       "\t<tr><th scope=row>4</th><td>Canada   </td><td>CAN</td><td>2022</td><td>336845</td><td>19228</td><td>302632.96</td><td>34212.039</td><td>38929902</td><td>9,093,510</td><td>1.8</td><td>317617</td><td>49.39134</td><td> 87.88113</td><td>54917.663</td><td>18.5</td><td>81</td><td>  4</td><td>70.0</td><td>0</td><td>1</td></tr>\n",
       "\t<tr><th scope=row>5</th><td>Chile    </td><td>CHL</td><td>2022</td><td>136472</td><td>12591</td><td>114278.36</td><td>22193.641</td><td>19828563</td><td>743,532  </td><td>1.8</td><td>123881</td><td>63.49931</td><td>111.92763</td><td>15355.480</td><td>12.7</td><td>85</td><td> 27</td><td>61.0</td><td>0</td><td>1</td></tr>\n",
       "\t<tr><th scope=row>6</th><td>Colombia </td><td>COL</td><td>2022</td><td>285026</td><td>11855</td><td>258781.27</td><td>26244.729</td><td>51682692</td><td>1,109,500</td><td>2.2</td><td>273171</td><td>22.93805</td><td> 50.78050</td><td> 6624.165</td><td> 8.2</td><td>81</td><td> 47</td><td>78.5</td><td>0</td><td>1</td></tr>\n",
       "</tbody>\n",
       "</table>\n"
      ],
      "text/latex": [
       "A data.frame: 6 × 20\n",
       "\\begin{tabular}{r|llllllllllllllllllll}\n",
       "  & country & countrycode & year & total\\_deaths & covid\\_deaths & expected\\_deaths & excess\\_deaths & population & land\\_area & Ratio.of.Excess.death.to.COVID.19.deaths & non\\_covid\\_deaths & covid\\_deaths\\_per\\_100k & excess\\_deaths\\_per\\_100k & GDP\\_per\\_capita & Age\\_65\\_over\\_percentage & urban\\_pop\\_percentage & Pop\\_density & Access\\_to\\_quality\\_healthcare & year2021 & year2022\\\\\n",
       "  & <chr> & <chr> & <int> & <dbl> & <int> & <dbl> & <dbl> & <int> & <chr> & <dbl> & <dbl> & <dbl> & <dbl> & <dbl> & <dbl> & <int> & <int> & <dbl> & <dbl> & <dbl>\\\\\n",
       "\\hline\n",
       "\t1 & Australia & AUS & 2022 & 190326 & 14438 & 168414.04 & 21911.965 & 25978935 & 7682300   & 1.5 & 175888 & 55.57580 &  84.34512 & 65099.846 & 16.6 & 86 &   3 & 72.5 & 0 & 1\\\\\n",
       "\t2 & Austria   & AUT & 2022 &  91582 &  4689 &  81758.12 &  9823.883 &  9052856 & 82409     & 2.1 &  86893 & 51.79581 & 108.51695 & 52084.681 & 19.4 & 59 & 110 & 66.8 & 0 & 1\\\\\n",
       "\t3 & Belgium   & BEL & 2022 & 116138 &  4897 & 107158.52 &  8979.476 & 11640788 & 30280     & 1.8 & 111241 & 42.06760 &  77.13805 & 49926.825 & 19.4 & 99 & 384 & 68.0 & 0 & 1\\\\\n",
       "\t4 & Canada    & CAN & 2022 & 336845 & 19228 & 302632.96 & 34212.039 & 38929902 & 9,093,510 & 1.8 & 317617 & 49.39134 &  87.88113 & 54917.663 & 18.5 & 81 &   4 & 70.0 & 0 & 1\\\\\n",
       "\t5 & Chile     & CHL & 2022 & 136472 & 12591 & 114278.36 & 22193.641 & 19828563 & 743,532   & 1.8 & 123881 & 63.49931 & 111.92763 & 15355.480 & 12.7 & 85 &  27 & 61.0 & 0 & 1\\\\\n",
       "\t6 & Colombia  & COL & 2022 & 285026 & 11855 & 258781.27 & 26244.729 & 51682692 & 1,109,500 & 2.2 & 273171 & 22.93805 &  50.78050 &  6624.165 &  8.2 & 81 &  47 & 78.5 & 0 & 1\\\\\n",
       "\\end{tabular}\n"
      ],
      "text/markdown": [
       "\n",
       "A data.frame: 6 × 20\n",
       "\n",
       "| <!--/--> | country &lt;chr&gt; | countrycode &lt;chr&gt; | year &lt;int&gt; | total_deaths &lt;dbl&gt; | covid_deaths &lt;int&gt; | expected_deaths &lt;dbl&gt; | excess_deaths &lt;dbl&gt; | population &lt;int&gt; | land_area &lt;chr&gt; | Ratio.of.Excess.death.to.COVID.19.deaths &lt;dbl&gt; | non_covid_deaths &lt;dbl&gt; | covid_deaths_per_100k &lt;dbl&gt; | excess_deaths_per_100k &lt;dbl&gt; | GDP_per_capita &lt;dbl&gt; | Age_65_over_percentage &lt;dbl&gt; | urban_pop_percentage &lt;int&gt; | Pop_density &lt;int&gt; | Access_to_quality_healthcare &lt;dbl&gt; | year2021 &lt;dbl&gt; | year2022 &lt;dbl&gt; |\n",
       "|---|---|---|---|---|---|---|---|---|---|---|---|---|---|---|---|---|---|---|---|---|\n",
       "| 1 | Australia | AUS | 2022 | 190326 | 14438 | 168414.04 | 21911.965 | 25978935 | 7682300   | 1.5 | 175888 | 55.57580 |  84.34512 | 65099.846 | 16.6 | 86 |   3 | 72.5 | 0 | 1 |\n",
       "| 2 | Austria   | AUT | 2022 |  91582 |  4689 |  81758.12 |  9823.883 |  9052856 | 82409     | 2.1 |  86893 | 51.79581 | 108.51695 | 52084.681 | 19.4 | 59 | 110 | 66.8 | 0 | 1 |\n",
       "| 3 | Belgium   | BEL | 2022 | 116138 |  4897 | 107158.52 |  8979.476 | 11640788 | 30280     | 1.8 | 111241 | 42.06760 |  77.13805 | 49926.825 | 19.4 | 99 | 384 | 68.0 | 0 | 1 |\n",
       "| 4 | Canada    | CAN | 2022 | 336845 | 19228 | 302632.96 | 34212.039 | 38929902 | 9,093,510 | 1.8 | 317617 | 49.39134 |  87.88113 | 54917.663 | 18.5 | 81 |   4 | 70.0 | 0 | 1 |\n",
       "| 5 | Chile     | CHL | 2022 | 136472 | 12591 | 114278.36 | 22193.641 | 19828563 | 743,532   | 1.8 | 123881 | 63.49931 | 111.92763 | 15355.480 | 12.7 | 85 |  27 | 61.0 | 0 | 1 |\n",
       "| 6 | Colombia  | COL | 2022 | 285026 | 11855 | 258781.27 | 26244.729 | 51682692 | 1,109,500 | 2.2 | 273171 | 22.93805 |  50.78050 |  6624.165 |  8.2 | 81 |  47 | 78.5 | 0 | 1 |\n",
       "\n"
      ],
      "text/plain": [
       "  country   countrycode year total_deaths covid_deaths expected_deaths\n",
       "1 Australia AUS         2022 190326       14438        168414.04      \n",
       "2 Austria   AUT         2022  91582        4689         81758.12      \n",
       "3 Belgium   BEL         2022 116138        4897        107158.52      \n",
       "4 Canada    CAN         2022 336845       19228        302632.96      \n",
       "5 Chile     CHL         2022 136472       12591        114278.36      \n",
       "6 Colombia  COL         2022 285026       11855        258781.27      \n",
       "  excess_deaths population land_area Ratio.of.Excess.death.to.COVID.19.deaths\n",
       "1 21911.965     25978935   7682300   1.5                                     \n",
       "2  9823.883      9052856   82409     2.1                                     \n",
       "3  8979.476     11640788   30280     1.8                                     \n",
       "4 34212.039     38929902   9,093,510 1.8                                     \n",
       "5 22193.641     19828563   743,532   1.8                                     \n",
       "6 26244.729     51682692   1,109,500 2.2                                     \n",
       "  non_covid_deaths covid_deaths_per_100k excess_deaths_per_100k GDP_per_capita\n",
       "1 175888           55.57580               84.34512              65099.846     \n",
       "2  86893           51.79581              108.51695              52084.681     \n",
       "3 111241           42.06760               77.13805              49926.825     \n",
       "4 317617           49.39134               87.88113              54917.663     \n",
       "5 123881           63.49931              111.92763              15355.480     \n",
       "6 273171           22.93805               50.78050               6624.165     \n",
       "  Age_65_over_percentage urban_pop_percentage Pop_density\n",
       "1 16.6                   86                     3        \n",
       "2 19.4                   59                   110        \n",
       "3 19.4                   99                   384        \n",
       "4 18.5                   81                     4        \n",
       "5 12.7                   85                    27        \n",
       "6  8.2                   81                    47        \n",
       "  Access_to_quality_healthcare year2021 year2022\n",
       "1 72.5                         0        1       \n",
       "2 66.8                         0        1       \n",
       "3 68.0                         0        1       \n",
       "4 70.0                         0        1       \n",
       "5 61.0                         0        1       \n",
       "6 78.5                         0        1       "
      ]
     },
     "metadata": {},
     "output_type": "display_data"
    }
   ],
   "source": [
    "data_2022 = df %>%\n",
    "   filter(year==2022)\n",
    "head(data_2022)"
   ]
  },
  {
   "cell_type": "code",
   "execution_count": 48,
   "id": "0a660965",
   "metadata": {},
   "outputs": [
    {
     "name": "stdout",
     "output_type": "stream",
     "text": [
      "\n",
      "Call:  cv.glmnet(x = X, y = y, alpha = 1) \n",
      "\n",
      "Measure: Mean-Squared Error \n",
      "\n",
      "    Lambda Index Measure    SE Nonzero\n",
      "min  5.088    18    1413 530.8       2\n",
      "1se 20.540     3    1910 622.6       2\n",
      "7 x 1 sparse Matrix of class \"dgCMatrix\"\n",
      "                                      s1\n",
      "(Intercept)                  185.9017248\n",
      "covid_deaths_per_100k          0.5501154\n",
      "GDP_per_capita                 .        \n",
      "Age_65_over_percentage         .        \n",
      "urban_pop_percentage           .        \n",
      "Pop_density                    .        \n",
      "Access_to_quality_healthcare  -1.8099398\n"
     ]
    },
    {
     "data": {
      "image/png": "[encoded data removed]",
      "text/plain": [
       "plot without title"
      ]
     },
     "metadata": {
      "image/png": {
       "height": 420,
       "width": 420
      }
     },
     "output_type": "display_data"
    }
   ],
   "source": [
    "\n",
    "X <- as.matrix(data_2022[, c(\"covid_deaths_per_100k\", \"GDP_per_capita\", \"Age_65_over_percentage\", \"urban_pop_percentage\", \"Pop_density\", \"Access_to_quality_healthcare\")])\n",
    "\n",
    "# Response variable\n",
    "y <- data_2022$excess_deaths_per_100k\n",
    "\n",
    "\n",
    "\n",
    "\n",
    "\n",
    "\n",
    "\n",
    "# Fit Lasso regression model\n",
    "lasso_model_2022 <- cv.glmnet(X, y, alpha = 1)  # alpha = 1 corresponds to Lasso\n",
    "\n",
    "# Display the cross-validated Lasso model\n",
    "print(lasso_model_2022)\n",
    "# Plot the cross-validated mean squared error (cvm) as a function of log(lambda)\n",
    "plot(lasso_model_2022)\n",
    "\n",
    "# Choose the best lambda value\n",
    "best_lambda <- lasso_model_2022$lambda.min\n",
    "\n",
    "# Extract coefficients for the best lambda\n",
    "lasso_coefficients_2022 <- coef(lasso_model_2022, s = best_lambda)\n",
    "\n",
    "# Display the coefficients\n",
    "print(lasso_coefficients_2022)"
   ]
  },
  {
   "cell_type": "markdown",
   "id": "b5f8b37a",
   "metadata": {},
   "source": [
    "min: This is the lambda value that minimizes the cross-validated MSE. It's 5.088, corresponding to an MSE of 1413 with a standard error of 530.8. The model with this lambda selects 2 predictors.\n",
    "\n",
    "1se: This is the lambda value that is one standard error larger than the minimum MSE. It's more conservative, resulting in a simpler model. It's 20.540, with an MSE of 1910 and a standard error of 622.6. Interestingly, this model does not select any predictors, which suggests that none of the predictors are strong enough to be included in the model at this level of regularization.\n",
    "\n",
    "The sparse matrix provides the coefficients at the 'min' lambda:\n",
    "\n",
    "(Intercept): The baseline level of excess deaths per 100k when all other predictors are zero is 185.9.\n",
    "\n",
    "covid_deaths_per_100k: Each additional COVID-19 death per 100k is associated with an increase of 0.5501 in excess deaths per 100k, showing it is a significant predictor even after the LASSO shrinkage.\n",
    "Other variables like GDP per capita, Age 65 over percentage, urban population percentage, and population density have been shrunk to zero, meaning they were not selected by the model as significant predictors at this level of regularization.\n",
    "Access_to_quality_healthcare: Having a negative coefficient of -1.8099, suggesting that better access to quality healthcare is associated with a reduction in excess deaths per 100k.\n",
    "\n",
    "Overall, the LASSO model suggests that after accounting for regularization and predictor selection, COVID-19 deaths and access to quality healthcare are the most relevant predictors for excess deaths per 100k in this dataset, with other factors being less influential at the chosen regularization strength."
   ]
  },
  {
   "cell_type": "code",
   "execution_count": null,
   "id": "ad543f45",
   "metadata": {},
   "outputs": [],
   "source": []
  }
 ],
 "metadata": {
  "kernelspec": {
   "display_name": "R",
   "language": "R",
   "name": "ir"
  },
  "language_info": {
   "codemirror_mode": "r",
   "file_extension": ".r",
   "mimetype": "text/x-r-source",
   "name": "R",
   "pygments_lexer": "r",
   "version": "4.3.1"
  }
 },
 "nbformat": 4,
 "nbformat_minor": 5
}
